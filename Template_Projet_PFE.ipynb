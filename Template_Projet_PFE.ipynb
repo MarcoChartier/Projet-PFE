{
  "nbformat": 4,
  "nbformat_minor": 0,
  "metadata": {
    "colab": {
      "provenance": [],
      "include_colab_link": true
    },
    "kernelspec": {
      "name": "python3",
      "display_name": "Python 3"
    },
    "language_info": {
      "name": "python"
    }
  },
  "cells": [
    {
      "cell_type": "markdown",
      "metadata": {
        "id": "view-in-github",
        "colab_type": "text"
      },
      "source": [
        "<a href=\"https://colab.research.google.com/github/MarcoChartier/Projet-PFE/blob/main/Template_Projet_PFE.ipynb\" target=\"_parent\"><img src=\"https://colab.research.google.com/assets/colab-badge.svg\" alt=\"Open In Colab\"/></a>"
      ]
    },
    {
      "cell_type": "markdown",
      "source": [
        "# Projet PFE\n",
        "## Description\n",
        "Se projet est une application batîe dans le but d'aider les charges de transformation numérique à évaluer le projet. \n",
        "\n",
        "## Configuration\n",
        "Ce projet nessésite de connaitre le language de progammation. Des explemes de code serons disponible au besoin. "
      ],
      "metadata": {
        "id": "dcjTsQWVyM0K"
      }
    },
    {
      "cell_type": "markdown",
      "source": [
        "# Partie d'analyse de l'investissement"
      ],
      "metadata": {
        "id": "yRXYA8l1Ghed"
      }
    },
    {
      "cell_type": "markdown",
      "source": [],
      "metadata": {
        "id": "9YASaNyqPcPj"
      }
    },
    {
      "cell_type": "code",
      "source": [
        "pip install numpy-financial"
      ],
      "metadata": {
        "colab": {
          "base_uri": "https://localhost:8080/"
        },
        "cellView": "code",
        "id": "bRNbR9-vPZHo",
        "outputId": "71c4d247-733f-499d-9bc0-9ac2abdaa691"
      },
      "execution_count": null,
      "outputs": [
        {
          "output_type": "stream",
          "name": "stdout",
          "text": [
            "Looking in indexes: https://pypi.org/simple, https://us-python.pkg.dev/colab-wheels/public/simple/\n",
            "Collecting numpy-financial\n",
            "  Downloading numpy_financial-1.0.0-py3-none-any.whl (14 kB)\n",
            "Requirement already satisfied: numpy>=1.15 in /usr/local/lib/python3.8/dist-packages (from numpy-financial) (1.21.6)\n",
            "Installing collected packages: numpy-financial\n",
            "Successfully installed numpy-financial-1.0.0\n"
          ]
        }
      ]
    },
    {
      "cell_type": "code",
      "source": [
        "#@title Importation des modules complémentaires\n",
        "# Module à importer pour la partie financière\n",
        "import numpy_financial as npf # Module des formules financières\n",
        "import numpy as np # Module pour utiliser des arrays\n",
        "import random # Module des fonctions aléatoires\n",
        "import pandas as pd # Module pour la gestion des tableaux de données\n",
        "import matplotlib.pyplot as plt # Module pour dessiner des graphiques \n",
        "# Import seaborn\n",
        "import seaborn as sns"
      ],
      "metadata": {
        "id": "r4kDpsosPkg4"
      },
      "execution_count": null,
      "outputs": []
    },
    {
      "cell_type": "markdown",
      "source": [
        "# Analyse Projet"
      ],
      "metadata": {
        "id": "w9RlfdjzbT79"
      }
    },
    {
      "cell_type": "code",
      "source": [
        "DureeAnalysePreliminaire = 20 #@param {type:\"number\"}\n",
        "DureeExportation = 5 #@param {type:\"number\"}\n",
        "DureeConversion = 10 #@param {type:\"number\"}\n",
        "DureeComptabilite = 50 #@param {type:\"number\"}\n",
        "DureeInventaire = 55 #@param {type:\"number\"}\n",
        "DureeCrm = 75 #@param {type:\"number\"}\n",
        "DureeLivraison = 35 #@param {type:\"number\"}\n",
        "DureeEmployé = 40 #@param {type:\"number\"}\n",
        "DureeMarketing = 25 #@param {type:\"number\"}\n",
        "DureeImportation = 2 #@param {type:\"number\"}\n",
        "DureeFormation = 20 #@param {type:\"number\"}\n",
        "DureeTests = 20 #@param {type:\"number\"}\n",
        "\n",
        "# [numéro de la tâche, prédécéseur, durée de la tâche, début au plus tôt, début au plus târd]\n",
        "AnalysePreliminaire = [1,0,DureeAnalysePreliminaire,0,0]\n",
        "Exportation = [2,1,DureeExportation,20,80]\n",
        "Conversion = [3,2,DureeConversion,25,85]\n",
        "Comptabilite = [4,3,DureeComptabilite,20,40]\n",
        "Inventaire = [5,3,DureeInventaire,20,40]\n",
        "Crm = [6,3,DureeCrm,20,20]\n",
        "Livraison = [7,3,DureeLivraison,20,40]\n",
        "Employé = [8,3,DureeEmployé,20,40]\n",
        "Marketing = [9,3,DureeMarketing,20,70]\n",
        "\n",
        "E2 = [Exportation[2],Comptabilite[2],Inventaire[2],Crm[2],Livraison[2],Employé[2],Marketing[2]]\n",
        "E2.sort()\n",
        "Ci=E2[-1]+DureeAnalysePreliminaire\n",
        "Cf=Ci+DureeImportation\n",
        "Ct=Cf+DureeFormation\n",
        "Tf=Ct-DureeFormation\n",
        "Ti=Tf-DureeImportation\n",
        "\n",
        "AnalysePreliminaire = [1,0,DureeAnalysePreliminaire,0,0]\n",
        "Exportation = [2,1,DureeExportation,DureeAnalysePreliminaire,Ci-DureeExportation]\n",
        "Conversion = [3,2,DureeConversion,DureeAnalysePreliminaire+DureeConversion,Ci-DureeConversion]\n",
        "Comptabilite = [4,3,DureeComptabilite,DureeAnalysePreliminaire,Ci-DureeComptabilite]\n",
        "Inventaire = [5,3,DureeInventaire,DureeAnalysePreliminaire,Ci-DureeInventaire]\n",
        "Crm = [6,3,DureeCrm,DureeAnalysePreliminaire,Ci-DureeCrm]\n",
        "Livraison = [7,3,DureeLivraison,DureeAnalysePreliminaire,Ci-DureeLivraison]\n",
        "Employé = [8,3,DureeEmployé,DureeAnalysePreliminaire,Ci-DureeEmployé]\n",
        "Marketing = [9,3,DureeMarketing,DureeAnalysePreliminaire,Ci-DureeMarketing]\n",
        "Importation = [10,10,DureeImportation,Ci,Ti]\n",
        "Formation = [11,10,DureeFormation,Cf,Tf]\n",
        "Tests = [12,11,DureeTests,Ct,Ct]"
      ],
      "metadata": {
        "id": "_HCevOJwbZMe"
      },
      "execution_count": null,
      "outputs": []
    },
    {
      "cell_type": "code",
      "source": [
        "# Quel est votre nombre d'employé\n",
        "NbEmploye = 25 #@param {type:\"number\"}\n",
        "NbEmploye = int(NbEmploye)\n",
        "# Quel est votre chiffre d'affaire moyen:\n",
        "ChiffreAffaire = 50000 #@param {type:\"number\"}\n",
        "# Vos données actuel sont t'elle facilement exportable en CSV ? (oui/non)\n",
        "QuestionExportation = \"Oui\" #@param [\"Non\", \"Oui\"]\n",
        "\n",
        "if NbEmploye >= 20 and NbEmploye < 100 :\n",
        "  DureeCrm = DureeCrm  *1.05\n",
        "  DureeEmployé = DureeEmployé  *1.10\n",
        "\n",
        "if NbEmploye >= 100 and NbEmploye < 1500 :\n",
        "  DureeCrm = DureeCrm *1.10\n",
        "  DureeEmployé = DureeEmployé  *1.15\n",
        "\n",
        "if NbEmploye >= 1500 :\n",
        "  DureeCrm = DureeCrm *1.15\n",
        "  DureeEmployé = DureeEmployé *1.20\n",
        "\n",
        "if ChiffreAffaire >= 500000 and ChiffreAffaire < 1000000 :\n",
        "  DureeAnalysePreliminaire = DureeAnalysePreliminaire  *1.20\n",
        "  DureeComptabilite = DureeComptabilite  *1.20\n",
        "  DureeInventaire = DureeInventaire  *1.20\n",
        "  DureeLivraison = DureeLivraison  *1.20\n",
        "  DureeMarketing = DureeMarketing *1.20\n",
        "\n",
        "if ChiffreAffaire >= 1000000 and ChiffreAffaire < 5000000 :\n",
        "  DureeAnalysePreliminaire = DureeAnalysePreliminaire  *1.60\n",
        "  DureeComptabilite = DureeComptabilite  *1.60\n",
        "  DureeInventaire = DureeInventaire  *1.60\n",
        "  DureeLivraison = DureeLivraison  *1.60\n",
        "  DureeMarketing = DureeMarketing *1.60\n",
        "\n",
        "if ChiffreAffaire >= 5000000 :\n",
        "  DureeAnalysePreliminaire = DureeAnalysePreliminaire  *2\n",
        "  DureeComptabilite = DureeComptabilite  *2\n",
        "  DureeInventaire = DureeInventaire  *2\n",
        "  DureeLivraison = DureeLivraison  *2\n",
        "  DureeMarketing = DureeMarketing *2\n",
        "\n",
        "if QuestionExportation == 'non' :\n",
        "  DureeConversion = DureeConversion*3\n",
        "\n",
        "print(Crm)\n",
        "print(Employé)\n",
        "print(\"La durée d'implémentation du module CRM est de\", round(DureeCrm,2))\n",
        "print(\"La durée d'implémentation du module employé est de\", round(DureeEmployé,2))\n",
        "print(DureeCrm)\n",
        "print(DureeInventaire)\n",
        "print(DureeConversion)\n",
        "\n",
        "AnalysePreliminaire = [1,0,DureeAnalysePreliminaire,0,0]\n",
        "Exportation = [2,1,DureeExportation,20,80]\n",
        "Conversion = [3,2,DureeConversion,25,85]\n",
        "Comptabilite = [4,3,DureeComptabilite,20,40]\n",
        "Inventaire = [5,3,DureeInventaire,20,40]\n",
        "Crm = [6,3,DureeCrm,20,20]\n",
        "Livraison = [7,3,DureeLivraison,20,40]\n",
        "Employé = [8,3,DureeEmployé,20,40]\n",
        "Marketing = [9,3,DureeMarketing,20,70]\n",
        "\n",
        "E2 = [Exportation[2],Comptabilite[2],Inventaire[2],Crm[2],Livraison[2],Employé[2],Marketing[2]]\n",
        "E2.sort()\n",
        "Ci=E2[-1]+DureeAnalysePreliminaire\n",
        "Cf=Ci+DureeImportation\n",
        "Ct=Cf+DureeFormation\n",
        "Tf=Ct-DureeFormation\n",
        "Ti=Tf-DureeImportation\n",
        "\n",
        "AnalysePreliminaire = [1,0,DureeAnalysePreliminaire,0,0]\n",
        "Exportation = [2,1,DureeExportation,DureeAnalysePreliminaire,Ci-DureeExportation]\n",
        "Conversion = [3,2,DureeConversion,DureeAnalysePreliminaire+DureeConversion,Ci-DureeConversion]\n",
        "Comptabilite = [4,3,DureeComptabilite,DureeAnalysePreliminaire,Ci-DureeComptabilite]\n",
        "Inventaire = [5,3,DureeInventaire,DureeAnalysePreliminaire,Ci-DureeInventaire]\n",
        "Crm = [6,3,DureeCrm,DureeAnalysePreliminaire,Ci-DureeCrm]\n",
        "Livraison = [7,3,DureeLivraison,DureeAnalysePreliminaire,Ci-DureeLivraison]\n",
        "Employé = [8,3,DureeEmployé,DureeAnalysePreliminaire,Ci-DureeEmployé]\n",
        "Marketing = [9,3,DureeMarketing,DureeAnalysePreliminaire,Ci-DureeMarketing]\n",
        "Importation = [10,10,DureeImportation,Ci,Ti]\n",
        "Formation = [11,10,DureeFormation,Cf,Tf]\n",
        "Tests = [12,11,DureeTests,Ct,Ct]\n",
        "CoutImplementation = 10000"
      ],
      "metadata": {
        "id": "NKgYGi_RbgjG",
        "colab": {
          "base_uri": "https://localhost:8080/"
        },
        "outputId": "b35e839c-b329-4a12-c51d-a8eb0f7c6b58"
      },
      "execution_count": null,
      "outputs": [
        {
          "output_type": "stream",
          "name": "stdout",
          "text": [
            "[6, 3, 78.75, 20, 20.0]\n",
            "[8, 3, 44.0, 20, 54.75]\n",
            "La durée d'implémentation du module CRM est de 82.69\n",
            "La durée d'implémentation du module employé est de 48.4\n",
            "82.6875\n",
            "55\n",
            "10\n"
          ]
        }
      ]
    },
    {
      "cell_type": "code",
      "source": [
        "if Comptabilite[3] - Comptabilite[4] == 0 :\n",
        "  CoutImplementation = (DureeExportation+DureeConversion+DureeComptabilite+DureeInventaire+DureeCrm+DureeLivraison+DureeEmployé+DureeMarketing+DureeImportation+DureeFormation+DureeTests)*150\n",
        "  print(\"La chemin critique est : [Analyse préliminaire, Comptabilité, importation des données, formation, Test] d'une durée continue de\", round(DureeAnalysePreliminaire + DureeComptabilite + DureeImportation + DureeFormation + DureeTests,2), \"heures. L'implantation à une durée total de \", DureeExportation+DureeConversion+DureeComptabilite+DureeInventaire+DureeCrm+DureeLivraison+DureeEmployé+DureeMarketing+DureeImportation+DureeFormation+DureeTests, \"heures\")\n",
        "\n",
        "if Inventaire[3] - Inventaire[4] == 0 :\n",
        "  CoutImplementation = (DureeExportation+DureeConversion+DureeComptabilite+DureeInventaire+DureeCrm+DureeLivraison+DureeEmployé+DureeMarketing+DureeImportation+DureeFormation+DureeTests)*150\n",
        "  print(\"La chemin critique est : [Analyse préliminaire, Inventaire, importation des données, formation, Test] d'une durée continue de\", round(DureeAnalysePreliminaire + DureeInventaire + DureeImportation + DureeFormation + DureeTests,2), \"heures. L'implantation à une durée total de \", DureeExportation+DureeConversion+DureeComptabilite+DureeInventaire+DureeCrm+DureeLivraison+DureeEmployé+DureeMarketing+DureeImportation+DureeFormation+DureeTests, \"heures\")\n",
        "\n",
        "if Crm[3] - Crm[4] == 0 :\n",
        "  CoutImplementation = (DureeExportation+DureeConversion+DureeComptabilite+DureeInventaire+DureeCrm+DureeLivraison+DureeEmployé+DureeMarketing+DureeImportation+DureeFormation+DureeTests)*150\n",
        "  print(\"La chemin critique est : [Analyse préliminaire, CRM, importation des données, formation, Test] d'une durée continue de\", round(DureeAnalysePreliminaire + DureeCrm + DureeImportation + DureeFormation + DureeTests,2), \"heures. L'implantation à une durée total de \", DureeExportation+DureeConversion+DureeComptabilite+DureeInventaire+DureeCrm+DureeLivraison+DureeEmployé+DureeMarketing+DureeImportation+DureeFormation+DureeTests, \"heures\")\n",
        "\n",
        "if Livraison[3] - Livraison[4] == 0 :\n",
        "  CoutImplementation = (DureeExportation+DureeConversion+DureeComptabilite+DureeInventaire+DureeCrm+DureeLivraison+DureeEmployé+DureeMarketing+DureeImportation+DureeFormation+DureeTests)*150\n",
        "  print(\"La chemin critique est : [Analyse préliminaire, Livraison, importation des données, formation, Test] d'une durée continue de\", round(DureeAnalysePreliminaire + DureeLivraison + DureeImportation + DureeFormation + DureeTests,2), \"heures. L'implantation à une durée total de \", DureeExportation+DureeConversion+DureeComptabilite+DureeInventaire+DureeCrm+DureeLivraison+DureeEmployé+DureeMarketing+DureeImportation+DureeFormation+DureeTests, \"heures\")\n",
        "\n",
        "if Employé[3] - Employé[4] == 0 :\n",
        "  CoutImplementation = (DureeExportation+DureeConversion+DureeComptabilite+DureeInventaire+DureeCrm+DureeLivraison+DureeEmployé+DureeMarketing+DureeImportation+DureeFormation+DureeTests)*150\n",
        "  print(\"La chemin critique est : [Analyse préliminaire, Employé, importation des données, formation, Test] d'une durée continue de\", round(DureeAnalysePreliminaire + DureeEmployé + DureeImportation + DureeFormation + DureeTests,2), \"heures. L'implantation à une durée total de \", DureeExportation+DureeConversion+DureeComptabilite+DureeInventaire+DureeCrm+DureeLivraison+DureeEmployé+DureeMarketing+DureeImportation+DureeFormation+DureeTests, \"heures\")\n",
        "\n",
        "if Marketing[3] - Marketing[4] == 0 :\n",
        "  CoutImplementation = (DureeExportation+DureeConversion+DureeComptabilite+DureeInventaire+DureeCrm+DureeLivraison+DureeEmployé+DureeMarketing+DureeImportation+DureeFormation+DureeTests)*150\n",
        "  print(\"La chemin critique est : [Analyse préliminaire, Marketing, importation des données, formation, Test] d'une durée continue de\", round(DureeAnalysePreliminaire + DureeMarketing + DureeImportation + DureeFormation + DureeTests,2), \"heures. L'implantation à une durée total de \", DureeExportation+DureeConversion+DureeComptabilite+DureeInventaire+DureeCrm+DureeLivraison+DureeEmployé+DureeMarketing+DureeImportation+DureeFormation+DureeTests, \"heures\")\n"
      ],
      "metadata": {
        "id": "KbzDtqUgbm3i",
        "colab": {
          "base_uri": "https://localhost:8080/"
        },
        "outputId": "453ced55-67a6-4f68-ede4-cad3f8e08bac"
      },
      "execution_count": null,
      "outputs": [
        {
          "output_type": "stream",
          "name": "stdout",
          "text": [
            "La chemin critique est : [Analyse préliminaire, CRM, importation des données, formation, Test] d'une durée continue de 144.69 heures. L'implantation à une durée total de  353.0875 heures\n"
          ]
        }
      ]
    },
    {
      "cell_type": "markdown",
      "source": [
        "## Hypotèse de travail\n"
      ],
      "metadata": {
        "id": "J_98VMMjQFZa"
      }
    },
    {
      "cell_type": "markdown",
      "source": [
        "Cette section comprend les hypothèse de départ de votre projet d'investissement. \n",
        "\n",
        "- Le nombre d'année du projet peut varier entre 5 et 20 ans\n",
        "- Le p_inves représente le motant investit pour lancer le projet.\n",
        "- nb_licences représente le nombre d'usager qui auront besoins d'une licences\n",
        "- c-licences représente le cout d'une licences moyenenne\n",
        "- p_econo représente les économies espérer de la solution technologie compte réaliser\n",
        "- c_fixe représente le cout fixe du projet\n",
        "- c_variable représente les cout variable du projet"
      ],
      "metadata": {
        "id": "giiMMB1uSS5V"
      }
    },
    {
      "cell_type": "code",
      "source": [
        "year = 10 #@param {type:\"slider\", min:5, max:20, step:1} \n",
        "p_inves = CoutImplementation\n",
        "nb_licences = 25 #@param {type:\"number\"}\n",
        "c_licences = 20 #@param {type:\"number\"}\n",
        "p_econo = 5000 #@param {type:\"number\"}\n",
        "c_fixe = 3000 #@param {type:\"number\"}\n",
        "c_variable = 23 #@param {type:\"number\"}\n",
        "low = 10.1\n",
        "high = 11\n",
        "mode = 10.3"
      ],
      "metadata": {
        "id": "s02X6oTuQOh9"
      },
      "execution_count": null,
      "outputs": []
    },
    {
      "cell_type": "code",
      "source": [
        "# Initialisation des tableaux\n",
        "tab_inves = np.array([p_inves])\n",
        "tab_econo = np.array([])\n",
        "tab_c_fixe = np.array([])\n",
        "tab_c_variable = np.array([])\n",
        "table_c_licences = np.array([])\n",
        "\n",
        "for i in range(year) :\n",
        "  tab_inves = np.append(tab_inves,0)\n",
        "\n",
        "for i in range(year+1) :\n",
        "  if i == 0 :\n",
        "    tab_c_fixe = np.append(tab_c_fixe,0)\n",
        "  elif i == 1 :\n",
        "    tab_c_fixe = np.append(tab_c_fixe,c_fixe)\n",
        "  else :\n",
        "    tab_c_fixe = np.append(tab_c_fixe,tab_c_fixe[i-1]*(np.random.choice([1,1.5,2],p=[0.6,0.25,0.15])))\n",
        "\n",
        "\n",
        "for i in range(year+1) :\n",
        "  if i == 0 :\n",
        "    tab_c_variable = np.append(tab_c_variable,0)\n",
        "  elif i == 1 :\n",
        "    tab_c_variable = np.append(tab_c_variable,c_variable*nb_licences)\n",
        "  else :\n",
        "    tab_c_variable = np.append(tab_c_variable,tab_c_variable[i-1]*(random.triangular(low,high,mode)/10))\n",
        "\n",
        "for i in range(year+1) :\n",
        "  if i == 0 :\n",
        "    tab_econo = np.append(tab_econo,0)\n",
        "  elif i ==1 :\n",
        "    tab_econo = np.append(tab_econo,p_econo)\n",
        "  else :\n",
        "    tab_econo = np.append(tab_econo,random.uniform(p_econo,p_econo*2))"
      ],
      "metadata": {
        "id": "YGrnk8c_TQrF"
      },
      "execution_count": null,
      "outputs": []
    },
    {
      "cell_type": "code",
      "source": [
        "er = pd.DataFrame(columns=['Économie', 'Cout variable', 'Cout fixe', \"Investissement\",\"Total cout\", \"Total\"], dtype='float')\n",
        "er[\"Économie\"] = tab_econo\n",
        "er[\"Cout variable\"] = tab_c_variable\n",
        "er[\"Cout fixe\"] = tab_c_fixe\n",
        "er[\"Investissement\"] = tab_inves\n",
        "er[\"Total cout\"] = tab_c_variable + tab_c_fixe + tab_inves\n",
        "er[\"Total\"] = tab_econo - er[\"Total cout\"]\n",
        "er = er.round(0)\n",
        "er.transpose()"
      ],
      "metadata": {
        "colab": {
          "base_uri": "https://localhost:8080/",
          "height": 238
        },
        "id": "2juMb_wKT5v3",
        "outputId": "d6f4e1f5-86bc-4bbc-9bb6-3392736bed36"
      },
      "execution_count": null,
      "outputs": [
        {
          "output_type": "execute_result",
          "data": {
            "text/plain": [
              "                     0       1       2       3       4       5       6   \\\n",
              "Économie            0.0  5000.0  7127.0  7313.0  5417.0  7002.0  6698.0   \n",
              "Cout variable       0.0   150.0   153.0   162.0   168.0   173.0   178.0   \n",
              "Cout fixe           0.0  1500.0  1500.0  1500.0  1500.0  1500.0  2250.0   \n",
              "Investissement  10000.0     0.0     0.0     0.0     0.0     0.0     0.0   \n",
              "Total cout      10000.0  1650.0  1653.0  1662.0  1668.0  1673.0  2428.0   \n",
              "Total          -10000.0  3350.0  5474.0  5651.0  3750.0  5329.0  4270.0   \n",
              "\n",
              "                    7       8        9        10  \n",
              "Économie        6343.0  8894.0   5093.0   9689.0  \n",
              "Cout variable    191.0   203.0    208.0    222.0  \n",
              "Cout fixe       3375.0  5062.0  10125.0  10125.0  \n",
              "Investissement     0.0     0.0      0.0      0.0  \n",
              "Total cout      3566.0  5265.0  10333.0  10347.0  \n",
              "Total           2776.0  3628.0  -5240.0   -658.0  "
            ],
            "text/html": [
              "\n",
              "  <div id=\"df-e6ad2d89-647b-4798-8525-10c4d431fafc\">\n",
              "    <div class=\"colab-df-container\">\n",
              "      <div>\n",
              "<style scoped>\n",
              "    .dataframe tbody tr th:only-of-type {\n",
              "        vertical-align: middle;\n",
              "    }\n",
              "\n",
              "    .dataframe tbody tr th {\n",
              "        vertical-align: top;\n",
              "    }\n",
              "\n",
              "    .dataframe thead th {\n",
              "        text-align: right;\n",
              "    }\n",
              "</style>\n",
              "<table border=\"1\" class=\"dataframe\">\n",
              "  <thead>\n",
              "    <tr style=\"text-align: right;\">\n",
              "      <th></th>\n",
              "      <th>0</th>\n",
              "      <th>1</th>\n",
              "      <th>2</th>\n",
              "      <th>3</th>\n",
              "      <th>4</th>\n",
              "      <th>5</th>\n",
              "      <th>6</th>\n",
              "      <th>7</th>\n",
              "      <th>8</th>\n",
              "      <th>9</th>\n",
              "      <th>10</th>\n",
              "    </tr>\n",
              "  </thead>\n",
              "  <tbody>\n",
              "    <tr>\n",
              "      <th>Économie</th>\n",
              "      <td>0.0</td>\n",
              "      <td>5000.0</td>\n",
              "      <td>7127.0</td>\n",
              "      <td>7313.0</td>\n",
              "      <td>5417.0</td>\n",
              "      <td>7002.0</td>\n",
              "      <td>6698.0</td>\n",
              "      <td>6343.0</td>\n",
              "      <td>8894.0</td>\n",
              "      <td>5093.0</td>\n",
              "      <td>9689.0</td>\n",
              "    </tr>\n",
              "    <tr>\n",
              "      <th>Cout variable</th>\n",
              "      <td>0.0</td>\n",
              "      <td>150.0</td>\n",
              "      <td>153.0</td>\n",
              "      <td>162.0</td>\n",
              "      <td>168.0</td>\n",
              "      <td>173.0</td>\n",
              "      <td>178.0</td>\n",
              "      <td>191.0</td>\n",
              "      <td>203.0</td>\n",
              "      <td>208.0</td>\n",
              "      <td>222.0</td>\n",
              "    </tr>\n",
              "    <tr>\n",
              "      <th>Cout fixe</th>\n",
              "      <td>0.0</td>\n",
              "      <td>1500.0</td>\n",
              "      <td>1500.0</td>\n",
              "      <td>1500.0</td>\n",
              "      <td>1500.0</td>\n",
              "      <td>1500.0</td>\n",
              "      <td>2250.0</td>\n",
              "      <td>3375.0</td>\n",
              "      <td>5062.0</td>\n",
              "      <td>10125.0</td>\n",
              "      <td>10125.0</td>\n",
              "    </tr>\n",
              "    <tr>\n",
              "      <th>Investissement</th>\n",
              "      <td>10000.0</td>\n",
              "      <td>0.0</td>\n",
              "      <td>0.0</td>\n",
              "      <td>0.0</td>\n",
              "      <td>0.0</td>\n",
              "      <td>0.0</td>\n",
              "      <td>0.0</td>\n",
              "      <td>0.0</td>\n",
              "      <td>0.0</td>\n",
              "      <td>0.0</td>\n",
              "      <td>0.0</td>\n",
              "    </tr>\n",
              "    <tr>\n",
              "      <th>Total cout</th>\n",
              "      <td>10000.0</td>\n",
              "      <td>1650.0</td>\n",
              "      <td>1653.0</td>\n",
              "      <td>1662.0</td>\n",
              "      <td>1668.0</td>\n",
              "      <td>1673.0</td>\n",
              "      <td>2428.0</td>\n",
              "      <td>3566.0</td>\n",
              "      <td>5265.0</td>\n",
              "      <td>10333.0</td>\n",
              "      <td>10347.0</td>\n",
              "    </tr>\n",
              "    <tr>\n",
              "      <th>Total</th>\n",
              "      <td>-10000.0</td>\n",
              "      <td>3350.0</td>\n",
              "      <td>5474.0</td>\n",
              "      <td>5651.0</td>\n",
              "      <td>3750.0</td>\n",
              "      <td>5329.0</td>\n",
              "      <td>4270.0</td>\n",
              "      <td>2776.0</td>\n",
              "      <td>3628.0</td>\n",
              "      <td>-5240.0</td>\n",
              "      <td>-658.0</td>\n",
              "    </tr>\n",
              "  </tbody>\n",
              "</table>\n",
              "</div>\n",
              "      <button class=\"colab-df-convert\" onclick=\"convertToInteractive('df-e6ad2d89-647b-4798-8525-10c4d431fafc')\"\n",
              "              title=\"Convert this dataframe to an interactive table.\"\n",
              "              style=\"display:none;\">\n",
              "        \n",
              "  <svg xmlns=\"http://www.w3.org/2000/svg\" height=\"24px\"viewBox=\"0 0 24 24\"\n",
              "       width=\"24px\">\n",
              "    <path d=\"M0 0h24v24H0V0z\" fill=\"none\"/>\n",
              "    <path d=\"M18.56 5.44l.94 2.06.94-2.06 2.06-.94-2.06-.94-.94-2.06-.94 2.06-2.06.94zm-11 1L8.5 8.5l.94-2.06 2.06-.94-2.06-.94L8.5 2.5l-.94 2.06-2.06.94zm10 10l.94 2.06.94-2.06 2.06-.94-2.06-.94-.94-2.06-.94 2.06-2.06.94z\"/><path d=\"M17.41 7.96l-1.37-1.37c-.4-.4-.92-.59-1.43-.59-.52 0-1.04.2-1.43.59L10.3 9.45l-7.72 7.72c-.78.78-.78 2.05 0 2.83L4 21.41c.39.39.9.59 1.41.59.51 0 1.02-.2 1.41-.59l7.78-7.78 2.81-2.81c.8-.78.8-2.07 0-2.86zM5.41 20L4 18.59l7.72-7.72 1.47 1.35L5.41 20z\"/>\n",
              "  </svg>\n",
              "      </button>\n",
              "      \n",
              "  <style>\n",
              "    .colab-df-container {\n",
              "      display:flex;\n",
              "      flex-wrap:wrap;\n",
              "      gap: 12px;\n",
              "    }\n",
              "\n",
              "    .colab-df-convert {\n",
              "      background-color: #E8F0FE;\n",
              "      border: none;\n",
              "      border-radius: 50%;\n",
              "      cursor: pointer;\n",
              "      display: none;\n",
              "      fill: #1967D2;\n",
              "      height: 32px;\n",
              "      padding: 0 0 0 0;\n",
              "      width: 32px;\n",
              "    }\n",
              "\n",
              "    .colab-df-convert:hover {\n",
              "      background-color: #E2EBFA;\n",
              "      box-shadow: 0px 1px 2px rgba(60, 64, 67, 0.3), 0px 1px 3px 1px rgba(60, 64, 67, 0.15);\n",
              "      fill: #174EA6;\n",
              "    }\n",
              "\n",
              "    [theme=dark] .colab-df-convert {\n",
              "      background-color: #3B4455;\n",
              "      fill: #D2E3FC;\n",
              "    }\n",
              "\n",
              "    [theme=dark] .colab-df-convert:hover {\n",
              "      background-color: #434B5C;\n",
              "      box-shadow: 0px 1px 3px 1px rgba(0, 0, 0, 0.15);\n",
              "      filter: drop-shadow(0px 1px 2px rgba(0, 0, 0, 0.3));\n",
              "      fill: #FFFFFF;\n",
              "    }\n",
              "  </style>\n",
              "\n",
              "      <script>\n",
              "        const buttonEl =\n",
              "          document.querySelector('#df-e6ad2d89-647b-4798-8525-10c4d431fafc button.colab-df-convert');\n",
              "        buttonEl.style.display =\n",
              "          google.colab.kernel.accessAllowed ? 'block' : 'none';\n",
              "\n",
              "        async function convertToInteractive(key) {\n",
              "          const element = document.querySelector('#df-e6ad2d89-647b-4798-8525-10c4d431fafc');\n",
              "          const dataTable =\n",
              "            await google.colab.kernel.invokeFunction('convertToInteractive',\n",
              "                                                     [key], {});\n",
              "          if (!dataTable) return;\n",
              "\n",
              "          const docLinkHtml = 'Like what you see? Visit the ' +\n",
              "            '<a target=\"_blank\" href=https://colab.research.google.com/notebooks/data_table.ipynb>data table notebook</a>'\n",
              "            + ' to learn more about interactive tables.';\n",
              "          element.innerHTML = '';\n",
              "          dataTable['output_type'] = 'display_data';\n",
              "          await google.colab.output.renderOutput(dataTable, element);\n",
              "          const docLink = document.createElement('div');\n",
              "          docLink.innerHTML = docLinkHtml;\n",
              "          element.appendChild(docLink);\n",
              "        }\n",
              "      </script>\n",
              "    </div>\n",
              "  </div>\n",
              "  "
            ]
          },
          "metadata": {},
          "execution_count": 51
        }
      ]
    },
    {
      "cell_type": "code",
      "source": [
        "print(npf.irr(er[\"Total\"]))\n",
        "print(npf.npv(0.10,er[\"Total\"]))"
      ],
      "metadata": {
        "colab": {
          "base_uri": "https://localhost:8080/"
        },
        "id": "RldofJaH-hhj",
        "outputId": "5a17032f-b173-423c-a133-1f94269817d1"
      },
      "execution_count": null,
      "outputs": [
        {
          "output_type": "stream",
          "name": "stdout",
          "text": [
            "-0.36547500448339987\n",
            "10736.6520039219\n"
          ]
        }
      ]
    },
    {
      "cell_type": "code",
      "source": [
        "er[\"Total cumul\"] = er[\"Total\"].cumsum()\n",
        "plt.plot(er.index, er['Total cumul'], color='red', marker='o',)\n",
        "plt.title('Cumulatif par années', fontsize=14)\n",
        "plt.xlabel('Année', fontsize=14)\n",
        "plt.ylabel('Cumulatif', fontsize=14)\n",
        "plt.ylim(-p_inves*1.5,p_inves*1.5)\n",
        "plt.grid(True)\n",
        "plt.show()"
      ],
      "metadata": {
        "colab": {
          "base_uri": "https://localhost:8080/",
          "height": 301
        },
        "id": "n9YzWYzRYjOU",
        "outputId": "feef8fdd-02af-4f27-9464-aa6e3522575b"
      },
      "execution_count": null,
      "outputs": [
        {
          "output_type": "display_data",
          "data": {
            "text/plain": [
              "<Figure size 432x288 with 1 Axes>"
            ],
            "image/png": "[encoded data removed]"
          },
          "metadata": {
            "needs_background": "light"
          }
        }
      ]
    },
    {
      "cell_type": "code",
      "source": [
        "# initialisation du tableau\n",
        "tab_c_variable = np.array([])\n",
        "\n",
        "# remplisage des valeurs\n",
        "for i in range(year+1) :\n",
        "  if i == 0 : # Valeur à l'année 0 (durant la phase d'investissement)\n",
        "    tab_c_variable = np.append(tab_c_variable,0)\n",
        "  elif i == 1 : # Valeur initial à l'année 1 (valeur avec le plus de certitude)\n",
        "    tab_c_variable = np.append(tab_c_variable,c_variable*nb_licences)\n",
        "  else : # Valeur pour les années future (générer aléatoirement) \n",
        "        # Fonction aléatoire triangle \n",
        "    tab_c_variable = np.append(tab_c_variable,tab_c_variable[i-1]*(random.triangular(low,high,mode)/10))\n",
        "\n",
        "# Création de l'état des résultats du projet\n",
        "er = pd.DataFrame(columns=['Économie', 'Cout variable', 'Cout fixe', \"Investissement\",\"Total cout\", \"Total\"], dtype='float')\n",
        "# insertion du tableau dans l'état des résultat du projet\n",
        "er[\"Cout variable\"] = tab_c_variable\n"
      ],
      "metadata": {
        "id": "H-ElA1Zf9N_p"
      },
      "execution_count": null,
      "outputs": []
    },
    {
      "cell_type": "code",
      "source": [
        "def tableau() :\n",
        "# Initialisation des tableaux\n",
        "  tab_inves = np.array([p_inves])\n",
        "  tab_econo = np.array([])\n",
        "  tab_c_fixe = np.array([])\n",
        "  tab_c_variable = np.array([])\n",
        "  table_c_licences = np.array([])\n",
        "\n",
        "  for i in range(year) :\n",
        "    tab_inves = np.append(tab_inves,0)\n",
        "\n",
        "  for i in range(year+1) :\n",
        "    if i == 0 :\n",
        "      tab_c_fixe = np.append(tab_c_fixe,0)\n",
        "    elif i == 1 :\n",
        "      tab_c_fixe = np.append(tab_c_fixe,c_fixe)\n",
        "    else :\n",
        "      tab_c_fixe = np.append(tab_c_fixe,tab_c_fixe[i-1]*(np.random.choice([1,1.5,2],p=[0.6,0.25,0.15])))\n",
        "\n",
        "\n",
        "  for i in range(year+1) :\n",
        "    if i == 0 :\n",
        "      tab_c_variable = np.append(tab_c_variable,0)\n",
        "    elif i == 1 :\n",
        "      tab_c_variable = np.append(tab_c_variable,c_variable*nb_licences)\n",
        "    else :\n",
        "      tab_c_variable = np.append(tab_c_variable,tab_c_variable[i-1]*(random.triangular(low,high,mode)/10))\n",
        "\n",
        "  for i in range(year+1) :\n",
        "    if i == 0 :\n",
        "      tab_econo = np.append(tab_econo,0)\n",
        "    elif i ==1 :\n",
        "      tab_econo = np.append(tab_econo,p_econo)\n",
        "    else :\n",
        "      tab_econo = np.append(tab_econo,random.uniform(p_econo,p_econo*2))\n",
        "\n",
        "  er = pd.DataFrame(columns=['Économie', 'Cout variable', 'Cout fixe', \"Investissement\",\"Total cout\", \"Total\"], dtype='float')\n",
        "  er[\"Économie\"] = tab_econo\n",
        "  er[\"Cout variable\"] = tab_c_variable\n",
        "  er[\"Cout fixe\"] = tab_c_fixe\n",
        "  er[\"Investissement\"] = tab_inves\n",
        "  er[\"Total cout\"] = tab_c_variable + tab_c_fixe + tab_inves\n",
        "  er[\"Total\"] = tab_econo - er[\"Total cout\"]\n",
        "  \n",
        "  return er[\"Total\"]"
      ],
      "metadata": {
        "id": "JOEL90E3ggIG"
      },
      "execution_count": null,
      "outputs": []
    },
    {
      "cell_type": "code",
      "source": [
        "tab_irr = np.array([])\n",
        "\n",
        "\n",
        "for i in range(1000) :\n",
        "  tab_irr = np.append(tab_irr,npf.irr(tableau())*100)\n",
        "\n",
        "df = pd.DataFrame(data={'Total IRR': tab_irr})\n",
        "df = df.round(2)\n",
        "df.describe()"
      ],
      "metadata": {
        "id": "8xSsvfyDgIy4",
        "colab": {
          "base_uri": "https://localhost:8080/",
          "height": 300
        },
        "outputId": "9cea3231-027b-48cd-d4fe-169e3192efbe"
      },
      "execution_count": null,
      "outputs": [
        {
          "output_type": "execute_result",
          "data": {
            "text/plain": [
              "        Total IRR\n",
              "count  623.000000\n",
              "mean    13.533531\n",
              "std     10.687117\n",
              "min    -96.030000\n",
              "25%      9.620000\n",
              "50%     15.300000\n",
              "75%     19.335000\n",
              "max     27.810000"
            ],
            "text/html": [
              "\n",
              "  <div id=\"df-075326c4-a475-4347-bbed-8e8b7f0e71c8\">\n",
              "    <div class=\"colab-df-container\">\n",
              "      <div>\n",
              "<style scoped>\n",
              "    .dataframe tbody tr th:only-of-type {\n",
              "        vertical-align: middle;\n",
              "    }\n",
              "\n",
              "    .dataframe tbody tr th {\n",
              "        vertical-align: top;\n",
              "    }\n",
              "\n",
              "    .dataframe thead th {\n",
              "        text-align: right;\n",
              "    }\n",
              "</style>\n",
              "<table border=\"1\" class=\"dataframe\">\n",
              "  <thead>\n",
              "    <tr style=\"text-align: right;\">\n",
              "      <th></th>\n",
              "      <th>Total IRR</th>\n",
              "    </tr>\n",
              "  </thead>\n",
              "  <tbody>\n",
              "    <tr>\n",
              "      <th>count</th>\n",
              "      <td>623.000000</td>\n",
              "    </tr>\n",
              "    <tr>\n",
              "      <th>mean</th>\n",
              "      <td>13.533531</td>\n",
              "    </tr>\n",
              "    <tr>\n",
              "      <th>std</th>\n",
              "      <td>10.687117</td>\n",
              "    </tr>\n",
              "    <tr>\n",
              "      <th>min</th>\n",
              "      <td>-96.030000</td>\n",
              "    </tr>\n",
              "    <tr>\n",
              "      <th>25%</th>\n",
              "      <td>9.620000</td>\n",
              "    </tr>\n",
              "    <tr>\n",
              "      <th>50%</th>\n",
              "      <td>15.300000</td>\n",
              "    </tr>\n",
              "    <tr>\n",
              "      <th>75%</th>\n",
              "      <td>19.335000</td>\n",
              "    </tr>\n",
              "    <tr>\n",
              "      <th>max</th>\n",
              "      <td>27.810000</td>\n",
              "    </tr>\n",
              "  </tbody>\n",
              "</table>\n",
              "</div>\n",
              "      <button class=\"colab-df-convert\" onclick=\"convertToInteractive('df-075326c4-a475-4347-bbed-8e8b7f0e71c8')\"\n",
              "              title=\"Convert this dataframe to an interactive table.\"\n",
              "              style=\"display:none;\">\n",
              "        \n",
              "  <svg xmlns=\"http://www.w3.org/2000/svg\" height=\"24px\"viewBox=\"0 0 24 24\"\n",
              "       width=\"24px\">\n",
              "    <path d=\"M0 0h24v24H0V0z\" fill=\"none\"/>\n",
              "    <path d=\"M18.56 5.44l.94 2.06.94-2.06 2.06-.94-2.06-.94-.94-2.06-.94 2.06-2.06.94zm-11 1L8.5 8.5l.94-2.06 2.06-.94-2.06-.94L8.5 2.5l-.94 2.06-2.06.94zm10 10l.94 2.06.94-2.06 2.06-.94-2.06-.94-.94-2.06-.94 2.06-2.06.94z\"/><path d=\"M17.41 7.96l-1.37-1.37c-.4-.4-.92-.59-1.43-.59-.52 0-1.04.2-1.43.59L10.3 9.45l-7.72 7.72c-.78.78-.78 2.05 0 2.83L4 21.41c.39.39.9.59 1.41.59.51 0 1.02-.2 1.41-.59l7.78-7.78 2.81-2.81c.8-.78.8-2.07 0-2.86zM5.41 20L4 18.59l7.72-7.72 1.47 1.35L5.41 20z\"/>\n",
              "  </svg>\n",
              "      </button>\n",
              "      \n",
              "  <style>\n",
              "    .colab-df-container {\n",
              "      display:flex;\n",
              "      flex-wrap:wrap;\n",
              "      gap: 12px;\n",
              "    }\n",
              "\n",
              "    .colab-df-convert {\n",
              "      background-color: #E8F0FE;\n",
              "      border: none;\n",
              "      border-radius: 50%;\n",
              "      cursor: pointer;\n",
              "      display: none;\n",
              "      fill: #1967D2;\n",
              "      height: 32px;\n",
              "      padding: 0 0 0 0;\n",
              "      width: 32px;\n",
              "    }\n",
              "\n",
              "    .colab-df-convert:hover {\n",
              "      background-color: #E2EBFA;\n",
              "      box-shadow: 0px 1px 2px rgba(60, 64, 67, 0.3), 0px 1px 3px 1px rgba(60, 64, 67, 0.15);\n",
              "      fill: #174EA6;\n",
              "    }\n",
              "\n",
              "    [theme=dark] .colab-df-convert {\n",
              "      background-color: #3B4455;\n",
              "      fill: #D2E3FC;\n",
              "    }\n",
              "\n",
              "    [theme=dark] .colab-df-convert:hover {\n",
              "      background-color: #434B5C;\n",
              "      box-shadow: 0px 1px 3px 1px rgba(0, 0, 0, 0.15);\n",
              "      filter: drop-shadow(0px 1px 2px rgba(0, 0, 0, 0.3));\n",
              "      fill: #FFFFFF;\n",
              "    }\n",
              "  </style>\n",
              "\n",
              "      <script>\n",
              "        const buttonEl =\n",
              "          document.querySelector('#df-075326c4-a475-4347-bbed-8e8b7f0e71c8 button.colab-df-convert');\n",
              "        buttonEl.style.display =\n",
              "          google.colab.kernel.accessAllowed ? 'block' : 'none';\n",
              "\n",
              "        async function convertToInteractive(key) {\n",
              "          const element = document.querySelector('#df-075326c4-a475-4347-bbed-8e8b7f0e71c8');\n",
              "          const dataTable =\n",
              "            await google.colab.kernel.invokeFunction('convertToInteractive',\n",
              "                                                     [key], {});\n",
              "          if (!dataTable) return;\n",
              "\n",
              "          const docLinkHtml = 'Like what you see? Visit the ' +\n",
              "            '<a target=\"_blank\" href=https://colab.research.google.com/notebooks/data_table.ipynb>data table notebook</a>'\n",
              "            + ' to learn more about interactive tables.';\n",
              "          element.innerHTML = '';\n",
              "          dataTable['output_type'] = 'display_data';\n",
              "          await google.colab.output.renderOutput(dataTable, element);\n",
              "          const docLink = document.createElement('div');\n",
              "          docLink.innerHTML = docLinkHtml;\n",
              "          element.appendChild(docLink);\n",
              "        }\n",
              "      </script>\n",
              "    </div>\n",
              "  </div>\n",
              "  "
            ]
          },
          "metadata": {},
          "execution_count": 36
        }
      ]
    },
    {
      "cell_type": "code",
      "source": [
        "sns.displot(df, x=\"Total IRR\",  kde=True)"
      ],
      "metadata": {
        "colab": {
          "base_uri": "https://localhost:8080/",
          "height": 386
        },
        "id": "W8txGr2PPM9P",
        "outputId": "066328f7-4dbe-42c8-a52e-f2c212adf553"
      },
      "execution_count": null,
      "outputs": [
        {
          "output_type": "execute_result",
          "data": {
            "text/plain": [
              "<seaborn.axisgrid.FacetGrid at 0x7fa95311f6d0>"
            ]
          },
          "metadata": {},
          "execution_count": 35
        },
        {
          "output_type": "display_data",
          "data": {
            "text/plain": [
              "<Figure size 360x360 with 1 Axes>"
            ],
            "image/png": "[encoded data removed]"
          },
          "metadata": {
            "needs_background": "light"
          }
        }
      ]
    },
    {
      "cell_type": "markdown",
      "source": [
        "# Analyse des résultat de la partie investissement\n",
        "\n"
      ],
      "metadata": {
        "id": "cNkNuYEWNQSO"
      }
    },
    {
      "cell_type": "code",
      "source": [
        "tab_npv = np.array([])\n",
        "\n",
        "\n",
        "for i in range(1000) :\n",
        "  tab_npv = np.append(tab_npv,npf.npv(0.15,tableau()))\n",
        "\n",
        "df = pd.DataFrame(data={'Total NPV': tab_npv})\n",
        "df = df.round(2)\n",
        "df\n",
        "# Show plot\n",
        "df.plot(kind='hist')"
      ],
      "metadata": {
        "id": "Mc9ydAPBqB0i"
      },
      "execution_count": null,
      "outputs": []
    },
    {
      "cell_type": "markdown",
      "source": [
        "# Analyse processus"
      ],
      "metadata": {
        "id": "T6J1aF5vGhiu"
      }
    },
    {
      "cell_type": "markdown",
      "source": [
        "Mettre l'image de l'équation"
      ],
      "metadata": {
        "id": "x9m3DjwMO-xB"
      }
    },
    {
      "cell_type": "code",
      "source": [
        "\n",
        "OP_ITERATION = 200 #@param {type:\"number\"}\n",
        "TIME_EXTRA = 5 #@param {type:\"number\"}\n",
        "COMM_TIME = 10 #@param {type:\"number\"}\n",
        "ERROR_RATIO = 5 #@param {type:\"number\"}\n",
        "ERROR_TIME = 15 #@param {type:\"number\"}\n",
        "REDO_TIME = 33 #@param {type:\"number\"}\n",
        "REDO_RATIO = 6 #@param {type:\"number\"}\n",
        "SALARY_HOURLY = 26 #@param {type:\"number\"}\n",
        "ANNUAL_DAY = 220 #@param {type:\"number\"}\n",
        "Period_decisiontree = 2 #@param {type:\"number\"}\n",
        "annuity = 0.1 #@param {type:\"number\"}\n",
        "UPPER_VALUE = 0.1 #@param {type:\"number\"}\n",
        "SAME_VALUE = 0.1 #@param {type:\"number\"}\n",
        "LOWER_VALUE = 0.1 #@param {type:\"number\"}"
      ],
      "metadata": {
        "id": "9xknTFGEOzlk"
      },
      "execution_count": null,
      "outputs": []
    },
    {
      "cell_type": "code",
      "source": [
        "\n",
        "nodeList = []\n",
        "OP_ITERATION_incer = [ [0.7, 1.5], [0.2, 1], [0.1, 0.5]]\n",
        "\n",
        "def benef_time(OP_ITERATION_calc):\n",
        "\n",
        "    global TIME_EXTRA, COMM_TIME , ERROR_RATIO, ERROR_TIME, REDO_TIME, REDO_RATIO\n",
        "\n",
        "    Timesaved = (OP_ITERATION_calc*TIME_EXTRA)+COMM_TIME+(OP_ITERATION_calc*ERROR_RATIO/100*ERROR_TIME)+(OP_ITERATION_calc*REDO_TIME/100*REDO_RATIO)\n",
        "\n",
        "    return Timesaved\n",
        "    \n",
        "def benef_financial(Timesaved):\n",
        "    \n",
        "    global SALARY_HOURLY, ANNUAL_DAY\n",
        "\n",
        "    M = Timesaved/60*SALARY_HOURLY*ANNUAL_DAY\n",
        "    \n",
        "    return M\n",
        "\n",
        "def benef_calc(OP_ITERATION_dtc):\n",
        "\n",
        "    #print(benef_financial (benef_time(OP_ITERATION_dtc)))\n",
        "    benef_calc = benef_financial (benef_time(OP_ITERATION_dtc))\n",
        "    return benef_calc\n",
        "\n",
        "class Node:\n",
        "   def __init__(self, NewHead, NewOp, NewBenefit, NewPeriod, NewProb):\n",
        "      self.head = NewHead\n",
        "\n",
        "      self.op = NewOp\n",
        "      self.benefit = NewBenefit\n",
        "      self.period = NewPeriod\n",
        "      self.prob = NewProb\n",
        "      \n",
        "      self.high = None\n",
        "      self.mid = None\n",
        "      self.low = None\n",
        "\n",
        "      self.benefEsp = None\n",
        "\n",
        "def create_nextNode(CurrentNode: Node):\n",
        "\n",
        "    global nodeList\n",
        "\n",
        "    high = False\n",
        "    mid = False\n",
        "    low = False\n",
        "    currentPeriod = CurrentNode.period + 1\n",
        "\n",
        "    CurrentNode.high = Node( CurrentNode, CurrentNode.op*OP_ITERATION_incer[0][1], benef_calc(CurrentNode.op*OP_ITERATION_incer[0][1]), currentPeriod, OP_ITERATION_incer[0][0] )\n",
        "\n",
        "    for x in range(len(nodeList)):\n",
        "        if nodeList[x][1] == currentPeriod and nodeList[x][2] == CurrentNode.high.op :\n",
        "            high = 1\n",
        "            CurrentNode.high = nodeList[x][0]\n",
        "            break\n",
        "        \n",
        "    if high == 0:\n",
        "        nodeList.append([CurrentNode.high, CurrentNode.high.period, CurrentNode.high.op])\n",
        "\n",
        "    \n",
        "\n",
        "    CurrentNode.mid = Node( CurrentNode, CurrentNode.op*OP_ITERATION_incer[1][1], benef_calc(CurrentNode.op*OP_ITERATION_incer[1][1]), currentPeriod, OP_ITERATION_incer[1][0] )\n",
        "    for x in range(len(nodeList)):\n",
        "        if nodeList[x][1] == currentPeriod and nodeList[x][2] == CurrentNode.mid.op :\n",
        "            mid = 1\n",
        "            CurrentNode.mid = nodeList[x][0]\n",
        "            break\n",
        "        \n",
        "    if mid == 0:\n",
        "        nodeList.append([CurrentNode.mid, CurrentNode.mid.period, CurrentNode.mid.op])\n",
        "            \n",
        "\n",
        "    CurrentNode.low = Node( CurrentNode, CurrentNode.op*OP_ITERATION_incer[2][1], benef_calc(CurrentNode.op*OP_ITERATION_incer[2][1]), currentPeriod, OP_ITERATION_incer[2][0] )\n",
        "\n",
        "    for x in range(len(nodeList)):\n",
        "        if nodeList[x][1] == currentPeriod and nodeList[x][2] == CurrentNode.low.op :\n",
        "            mid = 1\n",
        "            CurrentNode.low = nodeList[x][0]\n",
        "            break\n",
        "        \n",
        "    if low == 0:\n",
        "        nodeList.append([CurrentNode.low, CurrentNode.low.period, CurrentNode.low.op])\n",
        "            \n",
        "    \n",
        "    if currentPeriod < Period_decisiontree:\n",
        "        if high == 0:\n",
        "            create_nextNode(CurrentNode.high)\n",
        "        if mid == 0:\n",
        "            create_nextNode(CurrentNode.mid)\n",
        "        if low == 0:\n",
        "            create_nextNode(CurrentNode.low)\n",
        "    \n",
        "    CurrentNode.benefEsp = (CurrentNode.high.benefit*CurrentNode.high.prob + CurrentNode.mid.benefit*CurrentNode.mid.prob + CurrentNode.low.benefit*CurrentNode.low.prob)/(1+annuity)\n",
        "    CurrentNode.benefit = CurrentNode.benefEsp + CurrentNode.benefit\n",
        "\n",
        "def create_tree():\n",
        "\n",
        "    global nodeList\n",
        "    nodeList.clear\n",
        "    \n",
        "    firstNode = Node(None, OP_ITERATION, benef_calc(OP_ITERATION), 0, 1)\n",
        "    nodeList.append([firstNode, firstNode.period, firstNode.op])\n",
        "    create_nextNode(firstNode)\n",
        "    firstNode.benefEsp = (firstNode.high.benefit*firstNode.high.prob + firstNode.mid.benefit*firstNode.mid.prob + firstNode.low.benefit*firstNode.low.prob)/(1+annuity)\n",
        "\n",
        "    for x in nodeList:\n",
        "        print(x)\n",
        "    print (firstNode.benefit)\n",
        "\n",
        "create_tree()\n",
        "        \n",
        "\n",
        "\n"
      ],
      "metadata": {
        "id": "viW-F3cUOsLE"
      },
      "execution_count": null,
      "outputs": []
    }
  ]
}