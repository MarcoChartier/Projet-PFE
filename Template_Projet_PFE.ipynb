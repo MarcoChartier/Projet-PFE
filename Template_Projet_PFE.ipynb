{
  "nbformat": 4,
  "nbformat_minor": 0,
  "metadata": {
    "colab": {
      "provenance": [],
      "include_colab_link": true
    },
    "kernelspec": {
      "name": "python3",
      "display_name": "Python 3"
    },
    "language_info": {
      "name": "python"
    }
  },
  "cells": [
    {
      "cell_type": "markdown",
      "metadata": {
        "id": "view-in-github",
        "colab_type": "text"
      },
      "source": [
        "<a href=\"https://colab.research.google.com/github/MarcoChartier/Projet-PFE/blob/main/Template_Projet_PFE.ipynb\" target=\"_parent\"><img src=\"https://colab.research.google.com/assets/colab-badge.svg\" alt=\"Open In Colab\"/></a>"
      ]
    },
    {
      "cell_type": "markdown",
      "source": [
        "# Projet PFE\n",
        "## Description\n",
        "Se projet est une application batîe dans le but d'aider les charges de transformation numérique à évaluer le projet. \n",
        "\n",
        "## Configuration\n",
        "Ce projet nessésite de connaitre le language de progammation. Des explemes de code serons disponible au besoin. "
      ],
      "metadata": {
        "id": "dcjTsQWVyM0K"
      }
    },
    {
      "cell_type": "code",
      "source": [
        "pip install numpy-financial"
      ],
      "metadata": {
        "colab": {
          "base_uri": "https://localhost:8080/"
        },
        "cellView": "code",
        "id": "bRNbR9-vPZHo",
        "outputId": "85536f26-ed64-46dd-85eb-7295f4882892"
      },
      "execution_count": null,
      "outputs": [
        {
          "output_type": "stream",
          "name": "stdout",
          "text": [
            "Looking in indexes: https://pypi.org/simple, https://us-python.pkg.dev/colab-wheels/public/simple/\n",
            "Requirement already satisfied: numpy-financial in /usr/local/lib/python3.8/dist-packages (1.0.0)\n",
            "Requirement already satisfied: numpy>=1.15 in /usr/local/lib/python3.8/dist-packages (from numpy-financial) (1.21.6)\n"
          ]
        }
      ]
    },
    {
      "cell_type": "code",
      "source": [
        "#@title Importation des modules complémentaires\n",
        "# Module à importer pour la partie financière\n",
        "import numpy_financial as npf # Module des formules financières\n",
        "import numpy as np # Module pour utiliser des arrays\n",
        "import random # Module des fonctions aléatoires\n",
        "import pandas as pd # Module pour la gestion des tableaux de données\n",
        "import matplotlib.pyplot as plt # Module pour dessiner des graphiques \n",
        "# Import seaborn\n",
        "import seaborn as sns"
      ],
      "metadata": {
        "id": "r4kDpsosPkg4"
      },
      "execution_count": null,
      "outputs": []
    },
    {
      "cell_type": "markdown",
      "source": [
        "# Analyse processus\n",
        "\n"
      ],
      "metadata": {
        "id": "T6J1aF5vGhiu"
      }
    },
    {
      "cell_type": "markdown",
      "source": [
        "Cette section prend en paramètre l'état actuel des opérations. Ces données permette le calcul du bénéfice tangible potentiel.\n",
        "\n",
        "Veuillez entrer vos meilleurs estimations. Entrez 0 si vous ne disposez pas l'information."
      ],
      "metadata": {
        "id": "oEHfUq9tUQwv"
      }
    },
    {
      "cell_type": "code",
      "source": [
        "\n",
        "#@markdown Nombre d'opérations\n",
        "OP_ITERATION = 200 #@param {type:\"number\"}\n",
        "#@markdown Temps superflus actuel relatif au nouveau système\n",
        "TIME_EXTRA = 5 #@param {type:\"number\"}\n",
        "#@markdown Temps nécessaire pour la communication interne\n",
        "COMM_TIME = 10 #@param {type:\"number\"}\n",
        "#@markdown Taux d'erreur quotidien (%)\n",
        "ERROR_RATIO = 5 #@param {type:\"number\"}\n",
        "#@markdown Temps nécessaire à la correction d'erreur\n",
        "ERROR_TIME = 15 #@param {type:\"number\"}\n",
        "#@markdown Temps nécessaire pour effectuer la redondance (min)\n",
        "REDO_TIME = 33 #@param {type:\"number\"}\n",
        "#@markdown Taux de redondance quotidien de l'opération (%)\n",
        "REDO_RATIO = 6 #@param {type:\"number\"}\n",
        "#@markdown Salaire horaire moyen d'un opérateur\n",
        "SALARY_HOURLY = 26 #@param {type:\"number\"}\n",
        "#@markdown Nombre de jours ouvrable annuel\n",
        "ANNUAL_DAY = 220 #@param {type:\"number\"}\n",
        "#@markdown Horizon d'analyse de la valeur présente nette : minimum 1 ans\n",
        "\n",
        "Period_decisiontree = 0 #@param {type:\"number\"}\n",
        "#@markdown Prévision de ROI de votre organisation\n",
        "annuity = 0.1 #@param {type:\"number\"}\n",
        "#@markdown Facteur multiplicatif du nombre d'opération en augmentation\n",
        "UPPER_VALUE = 1.5 #@param {type:\"number\"}\n",
        "#@markdown Facteur multiplicatif du nombre d'opération neutre\n",
        "SAME_VALUE = 1 #@param {type:\"number\"}\n",
        "#@markdown Facteur multiplicatif du nombre d'opération en diminution\n",
        "LOWER_VALUE = 0.5 #@param {type:\"number\"}\n",
        "#@markdown Probabilité d'augmentation du nombre d'opération (cumulatif à 1)\n",
        "UPPER_VALUE_p = 0.7 #@param {type:\"number\"}\n",
        "#@markdown Probabilité de maintient du nombre d'opération (cumulatif à 1)\n",
        "SAME_VALUE_p = 0.3 #@param {type:\"number\"}\n",
        "#@markdown Probabilité de diminution du nombre d'opération (cumulatif à 1)\n",
        "LOW_VALUE_p = 0.1 #@param {type:\"number\"}\n",
        "\n",
        "\n",
        "\n",
        "nodeList = []\n",
        "OP_ITERATION_incer = [ [UPPER_VALUE_p, UPPER_VALUE], [SAME_VALUE_p, SAME_VALUE_p], [LOW_VALUE_p, LOWER_VALUE]]"
      ],
      "metadata": {
        "id": "9xknTFGEOzlk"
      },
      "execution_count": null,
      "outputs": []
    },
    {
      "cell_type": "markdown",
      "source": [
        "Cette section calcul les bénéfices tangibles potentiels actuels"
      ],
      "metadata": {
        "id": "Mn-5v9s4Cc6O"
      }
    },
    {
      "cell_type": "code",
      "source": [
        "def benefice_tangible():\n",
        "\n",
        "  global OP_ITERATION, TIME_EXTRA, COMM_TIME , ERROR_RATIO, ERROR_TIME, REDO_TIME, REDO_RATIO, SALARY_HOURLY, ANNUAL_DAY\n",
        "\n",
        "  Timesaved = (OP_ITERATION*TIME_EXTRA)+COMM_TIME+(OP_ITERATION*ERROR_RATIO/100*ERROR_TIME)+(OP_ITERATION*REDO_TIME/100*REDO_RATIO)\n",
        "  benef = Timesaved/60*SALARY_HOURLY*ANNUAL_DAY\n",
        "  return benef\n",
        "\n",
        "print(\"La valeur des bénéfices tangibles est de\", round(benefice_tangible(),2)*(Period_decisiontree+1),\"$\")"
      ],
      "metadata": {
        "colab": {
          "base_uri": "https://localhost:8080/"
        },
        "id": "OCve-zpuCdQm",
        "outputId": "db2caf0f-3583-49eb-da67-d2c0a7e3cb08"
      },
      "execution_count": null,
      "outputs": [
        {
          "output_type": "stream",
          "name": "stdout",
          "text": [
            "La valeur des bénéfices tangibles est de 148338.67 $\n"
          ]
        }
      ]
    },
    {
      "cell_type": "markdown",
      "source": [
        "Cette section calcul les bénéfices tangibles potentiels en valeur présente nette (VPN)"
      ],
      "metadata": {
        "id": "YL836P_5XvLv"
      }
    },
    {
      "cell_type": "code",
      "source": [
        "def benef_main():\n",
        "\n",
        "    #Calcul du gain en temps\n",
        "    def benef_time(OP_ITERATION_calc):\n",
        "\n",
        "        global TIME_EXTRA, COMM_TIME , ERROR_RATIO, ERROR_TIME, REDO_TIME, REDO_RATIO\n",
        "\n",
        "        Timesaved = (OP_ITERATION_calc*TIME_EXTRA)+COMM_TIME+(OP_ITERATION_calc*ERROR_RATIO/100*ERROR_TIME)+(OP_ITERATION_calc*REDO_TIME/100*REDO_RATIO)\n",
        "\n",
        "        return Timesaved\n",
        "    \n",
        "    #Calcul du bénéfice monétaire tangible\n",
        "    def benef_financial(Timesaved):\n",
        "        \n",
        "        global SALARY_HOURLY, ANNUAL_DAY\n",
        "\n",
        "        M = Timesaved/60*SALARY_HOURLY*ANNUAL_DAY\n",
        "        \n",
        "        return M\n",
        "\n",
        "    #Consolidation du calcul de bénéfice monétaire\n",
        "    def benef_calc(OP_ITERATION_dtc):\n",
        "\n",
        "        #print(benef_financial (benef_time(OP_ITERATION_dtc)))\n",
        "        benef_calc = benef_financial (benef_time(OP_ITERATION_dtc))\n",
        "        return benef_calc\n",
        "    \n",
        "    #Définition de l'objet Node de l'arbre de décision\n",
        "    class Node:\n",
        "        def __init__(self, NewHead, NewOp, NewBenefit, NewPeriod, NewProb):\n",
        "            self.head = NewHead\n",
        "\n",
        "            self.op = NewOp\n",
        "            self.benefit = NewBenefit\n",
        "            self.period = NewPeriod\n",
        "            self.prob = NewProb\n",
        "            \n",
        "            self.high = None\n",
        "            self.mid = None\n",
        "            self.low = None\n",
        "\n",
        "            self.benefEsp = None\n",
        "\n",
        "    #Logique de récursion de l'arbre de décision\n",
        "    def create_nextNode(CurrentNode: Node):\n",
        "\n",
        "        global nodeList\n",
        "\n",
        "        high = False\n",
        "        mid = False\n",
        "        low = False\n",
        "        currentPeriod = CurrentNode.period + 1\n",
        "\n",
        "        CurrentNode.high = Node( CurrentNode, CurrentNode.op*OP_ITERATION_incer[0][1], benef_calc(CurrentNode.op*OP_ITERATION_incer[0][1]), currentPeriod, OP_ITERATION_incer[0][0] )\n",
        "\n",
        "        for x in range(len(nodeList)):\n",
        "            if nodeList[x][1] == currentPeriod and nodeList[x][2] == CurrentNode.high.op :\n",
        "                high = 1\n",
        "                CurrentNode.high = nodeList[x][0]\n",
        "                break\n",
        "            \n",
        "        if high == 0:\n",
        "            nodeList.append([CurrentNode.high, CurrentNode.high.period, CurrentNode.high.op])\n",
        "\n",
        "        \n",
        "\n",
        "        CurrentNode.mid = Node( CurrentNode, CurrentNode.op*OP_ITERATION_incer[1][1], benef_calc(CurrentNode.op*OP_ITERATION_incer[1][1]), currentPeriod, OP_ITERATION_incer[1][0] )\n",
        "        for x in range(len(nodeList)):\n",
        "            if nodeList[x][1] == currentPeriod and nodeList[x][2] == CurrentNode.mid.op :\n",
        "                mid = 1\n",
        "                CurrentNode.mid = nodeList[x][0]\n",
        "                break\n",
        "            \n",
        "        if mid == 0:\n",
        "            nodeList.append([CurrentNode.mid, CurrentNode.mid.period, CurrentNode.mid.op])\n",
        "                \n",
        "\n",
        "        CurrentNode.low = Node( CurrentNode, CurrentNode.op*OP_ITERATION_incer[2][1], benef_calc(CurrentNode.op*OP_ITERATION_incer[2][1]), currentPeriod, OP_ITERATION_incer[2][0] )\n",
        "\n",
        "        for x in range(len(nodeList)):\n",
        "            if nodeList[x][1] == currentPeriod and nodeList[x][2] == CurrentNode.low.op :\n",
        "                mid = 1\n",
        "                CurrentNode.low = nodeList[x][0]\n",
        "                break\n",
        "            \n",
        "        if low == 0:\n",
        "            nodeList.append([CurrentNode.low, CurrentNode.low.period, CurrentNode.low.op])\n",
        "                \n",
        "        \n",
        "        if currentPeriod < Period_decisiontree:\n",
        "            if high == 0:\n",
        "                create_nextNode(CurrentNode.high)\n",
        "            if mid == 0:\n",
        "                create_nextNode(CurrentNode.mid)\n",
        "            if low == 0:\n",
        "                create_nextNode(CurrentNode.low)\n",
        "        \n",
        "        CurrentNode.benefEsp = (CurrentNode.high.benefit*CurrentNode.high.prob + CurrentNode.mid.benefit*CurrentNode.mid.prob + CurrentNode.low.benefit*CurrentNode.low.prob)/(1+annuity)\n",
        "        CurrentNode.benefit = CurrentNode.benefEsp + CurrentNode.benefit\n",
        "\n",
        "    #Création de l'arbre de décision par récursion\n",
        "    def create_tree():\n",
        "\n",
        "        global nodeList\n",
        "        nodeList.clear\n",
        "        \n",
        "        firstNode = Node(None, OP_ITERATION, benef_calc(OP_ITERATION), 0, 1)\n",
        "        nodeList.append([firstNode, firstNode.period, firstNode.op])\n",
        "        create_nextNode(firstNode)\n",
        "        firstNode.benefEsp = (firstNode.high.benefit*firstNode.high.prob + firstNode.mid.benefit*firstNode.mid.prob + firstNode.low.benefit*firstNode.low.prob)/(1+annuity)\n",
        "\n",
        "        \n",
        "        return firstNode.benefit\n",
        "\n",
        "    return create_tree()\n",
        "\n",
        "#Résultat VPN\n",
        "print(\"La valeur actuelle nette (VPN) des bénéfices sur une période de\", Period_decisiontree,\"ans est\", round(benef_main(), 2), \"$\")\n",
        "\n",
        "\n",
        "        \n",
        "\n",
        "\n"
      ],
      "metadata": {
        "id": "viW-F3cUOsLE",
        "colab": {
          "base_uri": "https://localhost:8080/"
        },
        "outputId": "b8ceec78-bdfc-44d1-daa6-22e9a93becb8"
      },
      "execution_count": null,
      "outputs": [
        {
          "output_type": "stream",
          "name": "stdout",
          "text": [
            "La valeur actuelle nette (VPN) des bénéfices sur une période de 0 ans est 308736.13 $\n"
          ]
        }
      ]
    },
    {
      "cell_type": "markdown",
      "source": [
        "# Analyse Projet"
      ],
      "metadata": {
        "id": "w9RlfdjzbT79"
      }
    },
    {
      "cell_type": "markdown",
      "source": [
        "Cette section permet d'initialiser le projet afin de crée un premier diagrame PERT qui sera par la suite ajusté en fonction de votre réalité."
      ],
      "metadata": {
        "id": "OuRabZdnh69b"
      }
    },
    {
      "cell_type": "code",
      "source": [
        "#initialisation des variables\n",
        "DureeAnalysePreliminaire = 20 \n",
        "DureeExportation = 5 \n",
        "DureeConversion = 10 \n",
        "DureeComptabilite = 50 \n",
        "DureeInventaire = 55 \n",
        "DureeCrm = 75 \n",
        "DureeLivraison = 35 \n",
        "DureeEmployé = 40 \n",
        "DureeMarketing = 25 \n",
        "DureeImportation = 2 \n",
        "DureeFormation = 20 \n",
        "DureeTests = 20 \n",
        "\n",
        "# [numéro de la tâche, prédécéseur, durée de la tâche, début au plus tôt, début au plus târd]\n",
        "AnalysePreliminaire = [1,0,DureeAnalysePreliminaire,0,0]\n",
        "Exportation = [2,1,DureeExportation,20,80]\n",
        "Conversion = [3,2,DureeConversion,25,85]\n",
        "Comptabilite = [4,3,DureeComptabilite,20,40]\n",
        "Inventaire = [5,3,DureeInventaire,20,40]\n",
        "Crm = [6,3,DureeCrm,20,20]\n",
        "Livraison = [7,3,DureeLivraison,20,40]\n",
        "Employé = [8,3,DureeEmployé,20,40]\n",
        "Marketing = [9,3,DureeMarketing,20,70]\n",
        "\n",
        "E2 = [Exportation[2],Comptabilite[2],Inventaire[2],Crm[2],Livraison[2],Employé[2],Marketing[2]]\n",
        "E2.sort()\n",
        "Ci=E2[-1]+DureeAnalysePreliminaire\n",
        "Cf=Ci+DureeImportation\n",
        "Ct=Cf+DureeFormation\n",
        "Tf=Ct-DureeFormation\n",
        "Ti=Tf-DureeImportation\n",
        "\n",
        "AnalysePreliminaire = [1,0,DureeAnalysePreliminaire,0,0]\n",
        "Exportation = [2,1,DureeExportation,DureeAnalysePreliminaire,Ci-DureeExportation]\n",
        "Conversion = [3,2,DureeConversion,DureeAnalysePreliminaire+DureeConversion,Ci-DureeConversion]\n",
        "Comptabilite = [4,3,DureeComptabilite,DureeAnalysePreliminaire,Ci-DureeComptabilite]\n",
        "Inventaire = [5,3,DureeInventaire,DureeAnalysePreliminaire,Ci-DureeInventaire]\n",
        "Crm = [6,3,DureeCrm,DureeAnalysePreliminaire,Ci-DureeCrm]\n",
        "Livraison = [7,3,DureeLivraison,DureeAnalysePreliminaire,Ci-DureeLivraison]\n",
        "Employé = [8,3,DureeEmployé,DureeAnalysePreliminaire,Ci-DureeEmployé]\n",
        "Marketing = [9,3,DureeMarketing,DureeAnalysePreliminaire,Ci-DureeMarketing]\n",
        "Importation = [10,10,DureeImportation,Ci,Ti]\n",
        "Formation = [11,10,DureeFormation,Cf,Tf]\n",
        "Tests = [12,11,DureeTests,Ct,Ct]"
      ],
      "metadata": {
        "id": "_HCevOJwbZMe"
      },
      "execution_count": null,
      "outputs": []
    },
    {
      "cell_type": "markdown",
      "source": [
        "Cette section permet d'ajuster le temps de certaines tâches en fonction de votre réalité. Ainsi, le chemin critique sera ajusté de facons dynamique en fonction de vos réponses."
      ],
      "metadata": {
        "id": "HodLHKP_iIIS"
      }
    },
    {
      "cell_type": "code",
      "source": [
        "#@markdown Quel est votre nombre d'employés :\n",
        "NbEmploye = 500 #@param {type:\"number\"}\n",
        "NbEmploye = int(NbEmploye)\n",
        "#@markdown Quel est votre chiffre d'affaire moyen :\n",
        "ChiffreAffaire = 80000000 #@param {type:\"number\"}\n",
        "#@markdown Vos données actuelles sont t'elles facilement exportable en format CSV ?\n",
        "QuestionExportation = \"Oui\" #@param [\"Non\", \"Oui\"]\n",
        "#@markdown Utiliser vous les modules suivants :\n",
        "ModuleComptabilité = \"Oui\" #@param [\"Non\", \"Oui\"]\n",
        "ModuleInventaire = \"Oui\" #@param [\"Non\", \"Oui\"]\n",
        "ModuleCRM = \"Oui\" #@param [\"Non\", \"Oui\"]\n",
        "ModuleLivraison = \"Oui\" #@param [\"Non\", \"Oui\"]\n",
        "ModuleEmployé = \"Oui\" #@param [\"Non\", \"Oui\"]\n",
        "ModuleMarketing = \"Non\" #@param [\"Non\", \"Oui\"]\n"
      ],
      "metadata": {
        "id": "NKgYGi_RbgjG"
      },
      "execution_count": null,
      "outputs": []
    },
    {
      "cell_type": "markdown",
      "source": [
        "Cette section permet de recalculer le temps de chacune des tâches ainsi que le chemin critique."
      ],
      "metadata": {
        "id": "TqFp73dfO8an"
      }
    },
    {
      "cell_type": "code",
      "source": [
        "if NbEmploye >= 20 and NbEmploye < 100 :\n",
        "  DureeCrm = DureeCrm  *1.05\n",
        "  DureeEmployé = DureeEmployé  *1.10\n",
        "\n",
        "if NbEmploye >= 100 and NbEmploye < 1500 :\n",
        "  DureeCrm = DureeCrm *1.10\n",
        "  DureeEmployé = DureeEmployé  *1.15\n",
        "\n",
        "if NbEmploye >= 1500 :\n",
        "  DureeCrm = DureeCrm *1.15\n",
        "  DureeEmployé = DureeEmployé *1.20\n",
        "\n",
        "if ChiffreAffaire >= 500000 and ChiffreAffaire < 1000000 :\n",
        "  DureeAnalysePreliminaire = DureeAnalysePreliminaire  *1.20\n",
        "  DureeComptabilite = DureeComptabilite  *1.20\n",
        "  DureeInventaire = DureeInventaire  *1.20\n",
        "  DureeLivraison = DureeLivraison  *1.20\n",
        "  DureeMarketing = DureeMarketing *1.20\n",
        "\n",
        "if ChiffreAffaire >= 1000000 and ChiffreAffaire < 5000000 :\n",
        "  DureeAnalysePreliminaire = DureeAnalysePreliminaire  *1.60\n",
        "  DureeComptabilite = DureeComptabilite  *1.60\n",
        "  DureeInventaire = DureeInventaire  *1.60\n",
        "  DureeLivraison = DureeLivraison  *1.60\n",
        "  DureeMarketing = DureeMarketing *1.60\n",
        "\n",
        "if ChiffreAffaire >= 5000000 :\n",
        "  DureeAnalysePreliminaire = DureeAnalysePreliminaire  *2\n",
        "  DureeComptabilite = DureeComptabilite  *2\n",
        "  DureeInventaire = DureeInventaire  *2\n",
        "  DureeLivraison = DureeLivraison  *2\n",
        "  DureeMarketing = DureeMarketing *2\n",
        "\n",
        "if QuestionExportation == 'Non' :\n",
        "  DureeConversion = DureeConversion*3\n",
        "\n",
        "if ModuleComptabilité == 'Non' :\n",
        "  DureeComptabilite = 0\n",
        "\n",
        "if ModuleInventaire == 'Non' :\n",
        "  DureeInventaire = 0\n",
        "\n",
        "if ModuleCRM == 'Non' :\n",
        "  DureeCrm = 0\n",
        "\n",
        "if ModuleLivraison == 'Non' :\n",
        "  DureeLivraison = 0\n",
        "\n",
        "if ModuleEmployé == 'Non' :\n",
        "  DureeEmployé = 0\n",
        "\n",
        "if ModuleMarketing == 'Non' :\n",
        "  DureeMarketing = 0\n",
        "\n",
        "AnalysePreliminaire = [1,0,DureeAnalysePreliminaire,0,0]\n",
        "Exportation = [2,1,DureeExportation,20,80]\n",
        "Conversion = [3,2,DureeConversion,25,85]\n",
        "Comptabilite = [4,3,DureeComptabilite,20,40]\n",
        "Inventaire = [5,3,DureeInventaire,20,40]\n",
        "Crm = [6,3,DureeCrm,20,20]\n",
        "Livraison = [7,3,DureeLivraison,20,40]\n",
        "Employé = [8,3,DureeEmployé,20,40]\n",
        "Marketing = [9,3,DureeMarketing,20,70]\n",
        "\n",
        "E2 = [Exportation[2],Comptabilite[2],Inventaire[2],Crm[2],Livraison[2],Employé[2],Marketing[2]]\n",
        "E2.sort()\n",
        "Ci=E2[-1]+DureeAnalysePreliminaire\n",
        "Cf=Ci+DureeImportation\n",
        "Ct=Cf+DureeFormation\n",
        "Tf=Ct-DureeFormation\n",
        "Ti=Tf-DureeImportation\n",
        "\n",
        "AnalysePreliminaire = [1,0,DureeAnalysePreliminaire,0,0]\n",
        "Exportation = [2,1,DureeExportation,DureeAnalysePreliminaire,Ci-DureeExportation]\n",
        "Conversion = [3,2,DureeConversion,DureeAnalysePreliminaire+DureeConversion,Ci-DureeConversion]\n",
        "Comptabilite = [4,3,DureeComptabilite,DureeAnalysePreliminaire,Ci-DureeComptabilite]\n",
        "Inventaire = [5,3,DureeInventaire,DureeAnalysePreliminaire,Ci-DureeInventaire]\n",
        "Crm = [6,3,DureeCrm,DureeAnalysePreliminaire,Ci-DureeCrm]\n",
        "Livraison = [7,3,DureeLivraison,DureeAnalysePreliminaire,Ci-DureeLivraison]\n",
        "Employé = [8,3,DureeEmployé,DureeAnalysePreliminaire,Ci-DureeEmployé]\n",
        "Marketing = [9,3,DureeMarketing,DureeAnalysePreliminaire,Ci-DureeMarketing]\n",
        "Importation = [10,10,DureeImportation,Ci,Ti]\n",
        "Formation = [11,10,DureeFormation,Cf,Tf]\n",
        "Tests = [12,11,DureeTests,Ct,Ct]\n",
        "CoutImplementation = 10000"
      ],
      "metadata": {
        "id": "_TUrOZZYO5Cm"
      },
      "execution_count": null,
      "outputs": []
    },
    {
      "cell_type": "markdown",
      "source": [
        "Cette section présente les résultat de la simulation.\n",
        "\n",
        "On y retrouve :\n",
        "\n",
        "*   Chemin critique\n",
        "*   Temps au plus court du projet\n",
        "*   Temps global\n",
        "\n",
        "\n",
        "\n",
        "\n",
        "\n"
      ],
      "metadata": {
        "id": "GrAq643diYzs"
      }
    },
    {
      "cell_type": "code",
      "source": [
        "if Comptabilite[3] - Comptabilite[4] == 0 :\n",
        "  CoutImplementation = (DureeExportation+DureeConversion+DureeComptabilite+DureeInventaire+DureeCrm+DureeLivraison+DureeEmployé+DureeMarketing+DureeImportation+DureeFormation+DureeTests)*150\n",
        "  print(\"Le chemin critique est : [Analyse préliminaire, Comptabilité, importation des données, formation, Test] d'une durée continue de\", round(DureeAnalysePreliminaire + DureeComptabilite + DureeImportation + DureeFormation + DureeTests,2), \"heures.\")\n",
        "  print(\"L'implantation à une durée total de \", DureeExportation+DureeConversion+DureeComptabilite+DureeInventaire+DureeCrm+DureeLivraison+DureeEmployé+DureeMarketing+DureeImportation+DureeFormation+DureeTests, \"heures\")\n",
        "\n",
        "if Inventaire[3] - Inventaire[4] == 0 :\n",
        "  CoutImplementation = (DureeExportation+DureeConversion+DureeComptabilite+DureeInventaire+DureeCrm+DureeLivraison+DureeEmployé+DureeMarketing+DureeImportation+DureeFormation+DureeTests)*150\n",
        "  print(\"Le chemin critique est : [Analyse préliminaire, Inventaire, importation des données, formation, Test] d'une durée continue de\", round(DureeAnalysePreliminaire + DureeInventaire + DureeImportation + DureeFormation + DureeTests,2), \"heures.\")\n",
        "  print(\"L'implantation à une durée total de \", DureeExportation+DureeConversion+DureeComptabilite+DureeInventaire+DureeCrm+DureeLivraison+DureeEmployé+DureeMarketing+DureeImportation+DureeFormation+DureeTests, \"heures\")\n",
        "\n",
        "if Crm[3] - Crm[4] == 0 :\n",
        "  CoutImplementation = (DureeExportation+DureeConversion+DureeComptabilite+DureeInventaire+DureeCrm+DureeLivraison+DureeEmployé+DureeMarketing+DureeImportation+DureeFormation+DureeTests)*150\n",
        "  print(\"Le chemin critique est : [Analyse préliminaire, CRM, importation des données, formation, Test] d'une durée continue de\", round(DureeAnalysePreliminaire + DureeCrm + DureeImportation + DureeFormation + DureeTests,2), \"heures.\")\n",
        "  print(\"L'implantation à une durée total de \", DureeExportation+DureeConversion+DureeComptabilite+DureeInventaire+DureeCrm+DureeLivraison+DureeEmployé+DureeMarketing+DureeImportation+DureeFormation+DureeTests, \"heures\")\n",
        "\n",
        "if Livraison[3] - Livraison[4] == 0 :\n",
        "  CoutImplementation = (DureeExportation+DureeConversion+DureeComptabilite+DureeInventaire+DureeCrm+DureeLivraison+DureeEmployé+DureeMarketing+DureeImportation+DureeFormation+DureeTests)*150\n",
        "  print(\"Le chemin critique est : [Analyse préliminaire, Livraison, importation des données, formation, Test] d'une durée continue de\", round(DureeAnalysePreliminaire + DureeLivraison + DureeImportation + DureeFormation + DureeTests,2), \"heures.\")\n",
        "  print(\"L'implantation à une durée total de \", DureeExportation+DureeConversion+DureeComptabilite+DureeInventaire+DureeCrm+DureeLivraison+DureeEmployé+DureeMarketing+DureeImportation+DureeFormation+DureeTests, \"heures\")\n",
        "\n",
        "if Employé[3] - Employé[4] == 0 :\n",
        "  CoutImplementation = (DureeExportation+DureeConversion+DureeComptabilite+DureeInventaire+DureeCrm+DureeLivraison+DureeEmployé+DureeMarketing+DureeImportation+DureeFormation+DureeTests)*150\n",
        "  print(\"Le chemin critique est : [Analyse préliminaire, Employé, importation des données, formation, Test] d'une durée continue de\", round(DureeAnalysePreliminaire + DureeEmployé + DureeImportation + DureeFormation + DureeTests,2), \"heures.\")\n",
        "  print(\"L'implantation à une durée total de \", DureeExportation+DureeConversion+DureeComptabilite+DureeInventaire+DureeCrm+DureeLivraison+DureeEmployé+DureeMarketing+DureeImportation+DureeFormation+DureeTests, \"heures\")\n",
        "\n",
        "if Marketing[3] - Marketing[4] == 0 :\n",
        "  CoutImplementation = (DureeExportation+DureeConversion+DureeComptabilite+DureeInventaire+DureeCrm+DureeLivraison+DureeEmployé+DureeMarketing+DureeImportation+DureeFormation+DureeTests)*150\n",
        "  print(\"Le chemin critique est : [Analyse préliminaire, Marketing, importation des données, formation, Test] d'une durée continue de\", round(DureeAnalysePreliminaire + DureeMarketing + DureeImportation + DureeFormation + DureeTests,2), \"heures.\")\n",
        "  print(\"L'implantation à une durée total de \", DureeExportation+DureeConversion+DureeComptabilite+DureeInventaire+DureeCrm+DureeLivraison+DureeEmployé+DureeMarketing+DureeImportation+DureeFormation+DureeTests, \"heures\")\n"
      ],
      "metadata": {
        "id": "KbzDtqUgbm3i",
        "colab": {
          "base_uri": "https://localhost:8080/"
        },
        "outputId": "e4345805-4725-47ec-821b-bdc083ca1ca8"
      },
      "execution_count": null,
      "outputs": [
        {
          "output_type": "stream",
          "name": "stdout",
          "text": [
            "Le chemin critique est : [Analyse préliminaire, Inventaire, importation des données, formation, Test] d'une durée continue de 192 heures.\n",
            "L'implantation à une durée total de  465.5 heures\n"
          ]
        }
      ]
    },
    {
      "cell_type": "markdown",
      "source": [
        "# Partie d'analyse de l'investissement"
      ],
      "metadata": {
        "id": "yRXYA8l1Ghed"
      }
    },
    {
      "cell_type": "markdown",
      "source": [
        "## Hypotèse de travail\n"
      ],
      "metadata": {
        "id": "J_98VMMjQFZa"
      }
    },
    {
      "cell_type": "markdown",
      "source": [
        "Cette section comprend les hypothèse de départ de votre projet d'investissement. \n",
        "\n",
        "- Le nombre d'année du projet peut varier entre 5 et 20 ans\n",
        "- Le p_inves représente le motant investit pour lancer le projet.\n",
        "- nb_licences représente le nombre d'usager qui auront besoins d'une licences\n",
        "- c-licences représente le cout d'une licences moyenenne\n",
        "- p_econo représente les économies espérer de la solution technologie compte réaliser\n",
        "- c_fixe représente le cout fixe du projet\n",
        "- c_variable représente les cout variable du projet"
      ],
      "metadata": {
        "id": "giiMMB1uSS5V"
      }
    },
    {
      "cell_type": "code",
      "source": [
        "#@markdown Info général\n",
        "year = 10 #@param {type:\"slider\", min:5, max:20, step:1} \n",
        "p_inves = CoutImplementation\n",
        "\n",
        "#@markdown Partie revenu\n",
        "p_revenu = 0 #@param {type:\"number\"}\n",
        "p_econo = 200000 #@param {type:\"number\"}\n",
        "\n",
        "#@markdown Partie coût\n",
        "nb_licences = 500 #@param {type:\"number\"}\n",
        "c_licences = 300 #@param {type:\"number\"}\n",
        "c_fixe = 0 #@param {type:\"number\"}\n",
        "c_variable = 0 #@param {type:\"number\"}\n",
        "\n",
        "if nb_licences > NbEmploye :\n",
        "  print(\"Vous avez sélectionner un nombre de licences supérieux à votre nombre d'employer\")"
      ],
      "metadata": {
        "id": "s02X6oTuQOh9"
      },
      "execution_count": null,
      "outputs": []
    },
    {
      "cell_type": "markdown",
      "source": [
        "## Choix des variables aléatoires\n",
        "\n",
        "Distribution triangle\n",
        "- Low = valeur minimal de la distribution\n",
        "- High = Valeur maximal de la distribution\n",
        "- Mode = Valeur moyenne de la distribution \n",
        "\n",
        "Distribution uniforme\n",
        "- uniformmin = valeur minimal de la distribution\n",
        "- uniformmax = valeur maximal de la distribution\n",
        "\n",
        "Distribution pondérer\n",
        "- Choice = à la valeur multiplicative \n",
        "- pchoice = a la probabilité du choix"
      ],
      "metadata": {
        "id": "ewAgL4uM7aY_"
      }
    },
    {
      "cell_type": "code",
      "source": [
        "from numpy.random.mtrand import choice\n",
        "#@markdown Distribution triangle\n",
        "low = 1 #@param {type:\"slider\", min:1, max:2, step:0.01} \n",
        "high = 1.03 #@param {type:\"slider\", min:1, max:2, step:0.01} \n",
        "mode = 1.01 #@param {type:\"slider\", min:1, max:2, step:0.01} \n",
        "#@markdown Distribution pondérer\n",
        "choice1 = 1 #@param {type:\"slider\", min:1, max:2, step:0.01} \n",
        "choice2 = 1.1 #@param {type:\"slider\", min:1, max:2.5, step:0.01} \n",
        "choice3 = 1.2 #@param {type:\"slider\", min:1, max:3, step:0.01} \n",
        "pchoice1 = 0.34 #@param {type:\"slider\", min:0, max:1, step:0.01} \n",
        "pchoice2 = 0.33 #@param {type:\"slider\", min:0, max:1, step:0.01} \n",
        "pchoice3 = 0.33 #@param {type:\"slider\", min:0, max:1, step:0.01}\n",
        "#@markdown Distribution uniforme\n",
        "uniformmin = 10000 #@param {type:\"number\"}\n",
        "uniformmax = 15000 #@param {type:\"number\"}\n",
        "if (pchoice1 + pchoice2+pchoice3 != 1) :\n",
        "  print('La somme des valeurs pchoice1 pchoice2 et pchoice 3 doit être égale à 1')"
      ],
      "metadata": {
        "id": "qR2o8ud64u9K"
      },
      "execution_count": null,
      "outputs": []
    },
    {
      "cell_type": "code",
      "source": [
        "# Initialisation des tableaux\n",
        "tab_inves = np.array([CoutImplementation])\n",
        "tab_econo = np.array([])\n",
        "tab_c_fixe = np.array([])\n",
        "tab_c_variable = np.array([])\n",
        "table_c_licences = np.array([])\n",
        "\n",
        "for i in range(year) :\n",
        "  tab_inves = np.append(tab_inves,0)\n",
        "\n",
        "for i in range(year+1) :\n",
        "  if i == 0 :\n",
        "    tab_c_fixe = np.append(tab_c_fixe,0)\n",
        "  elif i == 1 :\n",
        "    tab_c_fixe = np.append(tab_c_fixe,c_fixe)\n",
        "  else :\n",
        "    tab_c_fixe = np.append(tab_c_fixe,tab_c_fixe[i-1]*(np.random.choice([choice1,choice2,choice3],p=[pchoice1,pchoice2,pchoice3])))\n",
        "\n",
        "\n",
        "for i in range(year+1) :\n",
        "  if i == 0 :\n",
        "    table_c_licences = np.append(table_c_licences,0)\n",
        "  elif i == 1 :\n",
        "    table_c_licences = np.append(table_c_licences,c_licences*nb_licences)\n",
        "  else :\n",
        "    table_c_licences = np.append(table_c_licences,table_c_licences[i-1]*(random.triangular(low,high,mode)))\n",
        "\n",
        "for i in range(year+1) :\n",
        "  if i == 0 :\n",
        "    tab_econo = np.append(tab_econo,0)\n",
        "  elif i ==1 :\n",
        "    tab_econo = np.append(tab_econo,p_econo)\n",
        "  else :\n",
        "    tab_econo = np.append(tab_econo,random.uniform(uniformmin,uniformmax))\n",
        "\n",
        "er = pd.DataFrame(columns=[\"Revenu\",'Économie', 'Cout variable', 'Cout fixe', \"Investissement\",\"Total cout\", \"Total\"], dtype='float')\n",
        "er[\"Économie\"] = tab_econo\n",
        "er[\"Cout variable\"] = table_c_licences\n",
        "er[\"Cout fixe\"] = tab_c_fixe\n",
        "er[\"Investissement\"] = tab_inves\n",
        "er[\"Total cout\"] = er[\"Cout variable\"] + er[\"Cout fixe\"] + tab_inves\n",
        "er[\"Total\"] = tab_econo - er[\"Total cout\"]\n",
        "er = er.round(0)\n",
        "er.transpose()"
      ],
      "metadata": {
        "id": "YGrnk8c_TQrF",
        "colab": {
          "base_uri": "https://localhost:8080/",
          "height": 269
        },
        "outputId": "1b20313b-b3ac-49aa-f88b-6866a701051a"
      },
      "execution_count": null,
      "outputs": [
        {
          "output_type": "execute_result",
          "data": {
            "text/plain": [
              "                     0         1         2         3         4         5   \\\n",
              "Revenu              NaN       NaN       NaN       NaN       NaN       NaN   \n",
              "Économie            0.0  200000.0   12926.0   11436.0   11465.0   10210.0   \n",
              "Cout variable       0.0  150000.0  152344.0  155551.0  159969.0  161373.0   \n",
              "Cout fixe           0.0       0.0       0.0       0.0       0.0       0.0   \n",
              "Investissement  69825.0       0.0       0.0       0.0       0.0       0.0   \n",
              "Total cout      69825.0  150000.0  152344.0  155551.0  159969.0  161373.0   \n",
              "Total          -69825.0   50000.0 -139418.0 -144114.0 -148504.0 -151163.0   \n",
              "\n",
              "                      6         7         8         9         10  \n",
              "Revenu               NaN       NaN       NaN       NaN       NaN  \n",
              "Économie         10630.0   12989.0   14106.0   14921.0   10632.0  \n",
              "Cout variable   163163.0  164922.0  166241.0  168177.0  169082.0  \n",
              "Cout fixe            0.0       0.0       0.0       0.0       0.0  \n",
              "Investissement       0.0       0.0       0.0       0.0       0.0  \n",
              "Total cout      163163.0  164922.0  166241.0  168177.0  169082.0  \n",
              "Total          -152533.0 -151933.0 -152134.0 -153256.0 -158451.0  "
            ],
            "text/html": [
              "\n",
              "  <div id=\"df-7ed5d448-9491-4634-9d63-80f9942edcd2\">\n",
              "    <div class=\"colab-df-container\">\n",
              "      <div>\n",
              "<style scoped>\n",
              "    .dataframe tbody tr th:only-of-type {\n",
              "        vertical-align: middle;\n",
              "    }\n",
              "\n",
              "    .dataframe tbody tr th {\n",
              "        vertical-align: top;\n",
              "    }\n",
              "\n",
              "    .dataframe thead th {\n",
              "        text-align: right;\n",
              "    }\n",
              "</style>\n",
              "<table border=\"1\" class=\"dataframe\">\n",
              "  <thead>\n",
              "    <tr style=\"text-align: right;\">\n",
              "      <th></th>\n",
              "      <th>0</th>\n",
              "      <th>1</th>\n",
              "      <th>2</th>\n",
              "      <th>3</th>\n",
              "      <th>4</th>\n",
              "      <th>5</th>\n",
              "      <th>6</th>\n",
              "      <th>7</th>\n",
              "      <th>8</th>\n",
              "      <th>9</th>\n",
              "      <th>10</th>\n",
              "    </tr>\n",
              "  </thead>\n",
              "  <tbody>\n",
              "    <tr>\n",
              "      <th>Revenu</th>\n",
              "      <td>NaN</td>\n",
              "      <td>NaN</td>\n",
              "      <td>NaN</td>\n",
              "      <td>NaN</td>\n",
              "      <td>NaN</td>\n",
              "      <td>NaN</td>\n",
              "      <td>NaN</td>\n",
              "      <td>NaN</td>\n",
              "      <td>NaN</td>\n",
              "      <td>NaN</td>\n",
              "      <td>NaN</td>\n",
              "    </tr>\n",
              "    <tr>\n",
              "      <th>Économie</th>\n",
              "      <td>0.0</td>\n",
              "      <td>200000.0</td>\n",
              "      <td>12926.0</td>\n",
              "      <td>11436.0</td>\n",
              "      <td>11465.0</td>\n",
              "      <td>10210.0</td>\n",
              "      <td>10630.0</td>\n",
              "      <td>12989.0</td>\n",
              "      <td>14106.0</td>\n",
              "      <td>14921.0</td>\n",
              "      <td>10632.0</td>\n",
              "    </tr>\n",
              "    <tr>\n",
              "      <th>Cout variable</th>\n",
              "      <td>0.0</td>\n",
              "      <td>150000.0</td>\n",
              "      <td>152344.0</td>\n",
              "      <td>155551.0</td>\n",
              "      <td>159969.0</td>\n",
              "      <td>161373.0</td>\n",
              "      <td>163163.0</td>\n",
              "      <td>164922.0</td>\n",
              "      <td>166241.0</td>\n",
              "      <td>168177.0</td>\n",
              "      <td>169082.0</td>\n",
              "    </tr>\n",
              "    <tr>\n",
              "      <th>Cout fixe</th>\n",
              "      <td>0.0</td>\n",
              "      <td>0.0</td>\n",
              "      <td>0.0</td>\n",
              "      <td>0.0</td>\n",
              "      <td>0.0</td>\n",
              "      <td>0.0</td>\n",
              "      <td>0.0</td>\n",
              "      <td>0.0</td>\n",
              "      <td>0.0</td>\n",
              "      <td>0.0</td>\n",
              "      <td>0.0</td>\n",
              "    </tr>\n",
              "    <tr>\n",
              "      <th>Investissement</th>\n",
              "      <td>69825.0</td>\n",
              "      <td>0.0</td>\n",
              "      <td>0.0</td>\n",
              "      <td>0.0</td>\n",
              "      <td>0.0</td>\n",
              "      <td>0.0</td>\n",
              "      <td>0.0</td>\n",
              "      <td>0.0</td>\n",
              "      <td>0.0</td>\n",
              "      <td>0.0</td>\n",
              "      <td>0.0</td>\n",
              "    </tr>\n",
              "    <tr>\n",
              "      <th>Total cout</th>\n",
              "      <td>69825.0</td>\n",
              "      <td>150000.0</td>\n",
              "      <td>152344.0</td>\n",
              "      <td>155551.0</td>\n",
              "      <td>159969.0</td>\n",
              "      <td>161373.0</td>\n",
              "      <td>163163.0</td>\n",
              "      <td>164922.0</td>\n",
              "      <td>166241.0</td>\n",
              "      <td>168177.0</td>\n",
              "      <td>169082.0</td>\n",
              "    </tr>\n",
              "    <tr>\n",
              "      <th>Total</th>\n",
              "      <td>-69825.0</td>\n",
              "      <td>50000.0</td>\n",
              "      <td>-139418.0</td>\n",
              "      <td>-144114.0</td>\n",
              "      <td>-148504.0</td>\n",
              "      <td>-151163.0</td>\n",
              "      <td>-152533.0</td>\n",
              "      <td>-151933.0</td>\n",
              "      <td>-152134.0</td>\n",
              "      <td>-153256.0</td>\n",
              "      <td>-158451.0</td>\n",
              "    </tr>\n",
              "  </tbody>\n",
              "</table>\n",
              "</div>\n",
              "      <button class=\"colab-df-convert\" onclick=\"convertToInteractive('df-7ed5d448-9491-4634-9d63-80f9942edcd2')\"\n",
              "              title=\"Convert this dataframe to an interactive table.\"\n",
              "              style=\"display:none;\">\n",
              "        \n",
              "  <svg xmlns=\"http://www.w3.org/2000/svg\" height=\"24px\"viewBox=\"0 0 24 24\"\n",
              "       width=\"24px\">\n",
              "    <path d=\"M0 0h24v24H0V0z\" fill=\"none\"/>\n",
              "    <path d=\"M18.56 5.44l.94 2.06.94-2.06 2.06-.94-2.06-.94-.94-2.06-.94 2.06-2.06.94zm-11 1L8.5 8.5l.94-2.06 2.06-.94-2.06-.94L8.5 2.5l-.94 2.06-2.06.94zm10 10l.94 2.06.94-2.06 2.06-.94-2.06-.94-.94-2.06-.94 2.06-2.06.94z\"/><path d=\"M17.41 7.96l-1.37-1.37c-.4-.4-.92-.59-1.43-.59-.52 0-1.04.2-1.43.59L10.3 9.45l-7.72 7.72c-.78.78-.78 2.05 0 2.83L4 21.41c.39.39.9.59 1.41.59.51 0 1.02-.2 1.41-.59l7.78-7.78 2.81-2.81c.8-.78.8-2.07 0-2.86zM5.41 20L4 18.59l7.72-7.72 1.47 1.35L5.41 20z\"/>\n",
              "  </svg>\n",
              "      </button>\n",
              "      \n",
              "  <style>\n",
              "    .colab-df-container {\n",
              "      display:flex;\n",
              "      flex-wrap:wrap;\n",
              "      gap: 12px;\n",
              "    }\n",
              "\n",
              "    .colab-df-convert {\n",
              "      background-color: #E8F0FE;\n",
              "      border: none;\n",
              "      border-radius: 50%;\n",
              "      cursor: pointer;\n",
              "      display: none;\n",
              "      fill: #1967D2;\n",
              "      height: 32px;\n",
              "      padding: 0 0 0 0;\n",
              "      width: 32px;\n",
              "    }\n",
              "\n",
              "    .colab-df-convert:hover {\n",
              "      background-color: #E2EBFA;\n",
              "      box-shadow: 0px 1px 2px rgba(60, 64, 67, 0.3), 0px 1px 3px 1px rgba(60, 64, 67, 0.15);\n",
              "      fill: #174EA6;\n",
              "    }\n",
              "\n",
              "    [theme=dark] .colab-df-convert {\n",
              "      background-color: #3B4455;\n",
              "      fill: #D2E3FC;\n",
              "    }\n",
              "\n",
              "    [theme=dark] .colab-df-convert:hover {\n",
              "      background-color: #434B5C;\n",
              "      box-shadow: 0px 1px 3px 1px rgba(0, 0, 0, 0.15);\n",
              "      filter: drop-shadow(0px 1px 2px rgba(0, 0, 0, 0.3));\n",
              "      fill: #FFFFFF;\n",
              "    }\n",
              "  </style>\n",
              "\n",
              "      <script>\n",
              "        const buttonEl =\n",
              "          document.querySelector('#df-7ed5d448-9491-4634-9d63-80f9942edcd2 button.colab-df-convert');\n",
              "        buttonEl.style.display =\n",
              "          google.colab.kernel.accessAllowed ? 'block' : 'none';\n",
              "\n",
              "        async function convertToInteractive(key) {\n",
              "          const element = document.querySelector('#df-7ed5d448-9491-4634-9d63-80f9942edcd2');\n",
              "          const dataTable =\n",
              "            await google.colab.kernel.invokeFunction('convertToInteractive',\n",
              "                                                     [key], {});\n",
              "          if (!dataTable) return;\n",
              "\n",
              "          const docLinkHtml = 'Like what you see? Visit the ' +\n",
              "            '<a target=\"_blank\" href=https://colab.research.google.com/notebooks/data_table.ipynb>data table notebook</a>'\n",
              "            + ' to learn more about interactive tables.';\n",
              "          element.innerHTML = '';\n",
              "          dataTable['output_type'] = 'display_data';\n",
              "          await google.colab.output.renderOutput(dataTable, element);\n",
              "          const docLink = document.createElement('div');\n",
              "          docLink.innerHTML = docLinkHtml;\n",
              "          element.appendChild(docLink);\n",
              "        }\n",
              "      </script>\n",
              "    </div>\n",
              "  </div>\n",
              "  "
            ]
          },
          "metadata": {},
          "execution_count": 77
        }
      ]
    },
    {
      "cell_type": "markdown",
      "source": [
        "## Graphique cumulatif"
      ],
      "metadata": {
        "id": "Hlr8134q-lGK"
      }
    },
    {
      "cell_type": "code",
      "source": [
        "# Graphique des économies\n",
        "plt.plot(er.index, er[\"Économie\"].cumsum(), color='red', marker='o',)\n",
        "plt.title('Cumulatif des économie par années', fontsize=14)\n",
        "plt.xlabel('Année', fontsize=14)\n",
        "plt.ylabel('Économie', fontsize=14)\n",
        "#plt.ylim(-p_inves*1.5,p_inves*2)\n",
        "plt.grid(True)\n",
        "plt.show()\n",
        "\n",
        "#Graphique du total\n",
        "plt.plot(er.index, er[\"Total\"].cumsum(), color='red', marker='o',)\n",
        "plt.title('Cumulatif total par années', fontsize=14)\n",
        "plt.xlabel('Année', fontsize=14)\n",
        "plt.ylabel('Cumulatif', fontsize=14)\n",
        "plt.grid(True)\n",
        "plt.show()"
      ],
      "metadata": {
        "colab": {
          "base_uri": "https://localhost:8080/",
          "height": 585
        },
        "id": "n9YzWYzRYjOU",
        "outputId": "7621b945-e4bd-40a5-b074-caa0a21d1fe0"
      },
      "execution_count": null,
      "outputs": [
        {
          "output_type": "display_data",
          "data": {
            "text/plain": [
              "<Figure size 432x288 with 1 Axes>"
            ],
            "image/png": "[encoded data removed]"
          },
          "metadata": {
            "needs_background": "light"
          }
        },
        {
          "output_type": "display_data",
          "data": {
            "text/plain": [
              "<Figure size 432x288 with 1 Axes>"
            ],
            "image/png": "[encoded data removed]"
          },
          "metadata": {
            "needs_background": "light"
          }
        }
      ]
    },
    {
      "cell_type": "markdown",
      "source": [
        "# interprétation des résultats"
      ],
      "metadata": {
        "id": "vSRReM1s41Q2"
      }
    },
    {
      "cell_type": "markdown",
      "source": [
        "## Fonction utiliser pour la partie simulation\n",
        "\n",
        "Le code doit être identique à la partie de génération de l'état des résultats du projet à un détail prêt. Ne pas changer la première et la dernier ligne. Il sont utiliser pour appler la fonction et en retirer la résultat. "
      ],
      "metadata": {
        "id": "2AFiKzYB3yGy"
      }
    },
    {
      "cell_type": "code",
      "source": [
        "def tableau() :\n",
        "# Initialisation des tableaux\n",
        "  tab_inves = np.array([p_inves])\n",
        "  tab_econo = np.array([])\n",
        "  tab_c_fixe = np.array([])\n",
        "  tab_c_variable = np.array([])\n",
        "  table_c_licences = np.array([])\n",
        "\n",
        "  for i in range(year) :\n",
        "    tab_inves = np.append(tab_inves,0)\n",
        "\n",
        "  for i in range(year+1) :\n",
        "    if i == 0 :\n",
        "      tab_c_fixe = np.append(tab_c_fixe,0)\n",
        "    elif i == 1 :\n",
        "      tab_c_fixe = np.append(tab_c_fixe,c_fixe)\n",
        "    else :\n",
        "      tab_c_fixe = np.append(tab_c_fixe,tab_c_fixe[i-1]*(np.random.choice([1,1.5,2],p=[0.6,0.25,0.15])))\n",
        "\n",
        "\n",
        "  for i in range(year+1) :\n",
        "    if i == 0 :\n",
        "      tab_c_variable = np.append(tab_c_variable,0)\n",
        "    elif i == 1 :\n",
        "      tab_c_variable = np.append(tab_c_variable,c_variable*nb_licences)\n",
        "    else :\n",
        "      tab_c_variable = np.append(tab_c_variable,tab_c_variable[i-1]*(random.triangular(low,high,mode)/10))\n",
        "\n",
        "  for i in range(year+1) :\n",
        "    if i == 0 :\n",
        "      tab_econo = np.append(tab_econo,0)\n",
        "    elif i ==1 :\n",
        "      tab_econo = np.append(tab_econo,p_econo)\n",
        "    else :\n",
        "      tab_econo = np.append(tab_econo,random.uniform(p_econo,p_econo*2))\n",
        "\n",
        "  er = pd.DataFrame(columns=['Économie', 'Cout variable', 'Cout fixe', \"Investissement\",\"Total cout\", \"Total\"], dtype='float')\n",
        "  er[\"Économie\"] = tab_econo\n",
        "  er[\"Cout variable\"] = tab_c_variable\n",
        "  er[\"Cout fixe\"] = tab_c_fixe\n",
        "  er[\"Investissement\"] = tab_inves\n",
        "  er[\"Total cout\"] = tab_c_variable + tab_c_fixe + tab_inves\n",
        "  er[\"Total\"] = tab_econo - er[\"Total cout\"]\n",
        "  \n",
        "  return er[\"Total\"]"
      ],
      "metadata": {
        "id": "JOEL90E3ggIG"
      },
      "execution_count": null,
      "outputs": []
    },
    {
      "cell_type": "markdown",
      "source": [
        "## Analyse des résultat de la partie investissement\n",
        "\n"
      ],
      "metadata": {
        "id": "cNkNuYEWNQSO"
      }
    },
    {
      "cell_type": "markdown",
      "source": [
        "Sélectionner votre taux de rendement désirer pour le projet (TRAM)\n",
        "\n",
        "Sélectionner le nombre de simulation que vous souhaiter effectuer (SIM)"
      ],
      "metadata": {
        "id": "mggo8Pcu1rjI"
      }
    },
    {
      "cell_type": "code",
      "source": [
        "#@markdown Info simulation\n",
        "tab_npv = np.array([])\n",
        "tab_irr = np.array([])\n",
        "TRAM = 0.15 #@param {type:\"slider\", min:0, max:0.3, step:0.01} \n",
        "SIM = 400 #@param {type:\"slider\", min:10, max:1000, step:10} \n",
        "\n",
        "for i in range(SIM) :\n",
        "  tab_npv = np.append(tab_npv,npf.npv(TRAM,tableau()))\n",
        "  tab_irr = np.append(tab_irr,npf.irr(tableau())*100)\n",
        "\n",
        "NPV = pd.DataFrame(data={'Total NPV': tab_npv})\n",
        "IRR = pd.DataFrame(data={'Total IRR': tab_irr})\n",
        "IRR = IRR.round(2)\n",
        "NPV = NPV.round(0)\n",
        "\n",
        "# Show plot\n",
        "sns.displot(NPV, x=\"Total NPV\",  kde=True, binwidth=10000 )\n",
        "sns.displot(IRR, x=\"Total IRR\",  kde=True)"
      ],
      "metadata": {
        "id": "Mc9ydAPBqB0i",
        "colab": {
          "base_uri": "https://localhost:8080/",
          "height": 738
        },
        "outputId": "4dcea736-7584-405f-e203-d7a6e9532675"
      },
      "execution_count": null,
      "outputs": [
        {
          "output_type": "execute_result",
          "data": {
            "text/plain": [
              "<seaborn.axisgrid.FacetGrid at 0x7f34cde22220>"
            ]
          },
          "metadata": {},
          "execution_count": 80
        },
        {
          "output_type": "display_data",
          "data": {
            "text/plain": [
              "<Figure size 360x360 with 1 Axes>"
            ],
            "image/png": "[encoded data removed]"
          },
          "metadata": {
            "needs_background": "light"
          }
        },
        {
          "output_type": "display_data",
          "data": {
            "text/plain": [
              "<Figure size 360x360 with 1 Axes>"
            ],
            "image/png": "[encoded data removed]"
          },
          "metadata": {
            "needs_background": "light"
          }
        }
      ]
    },
    {
      "cell_type": "code",
      "source": [
        "NPV.describe().transpose()"
      ],
      "metadata": {
        "colab": {
          "base_uri": "https://localhost:8080/",
          "height": 81
        },
        "id": "R7LcmT4Xzibo",
        "outputId": "a3aff105-930e-407d-d199-c0783de8164e"
      },
      "execution_count": null,
      "outputs": [
        {
          "output_type": "execute_result",
          "data": {
            "text/plain": [
              "           count          mean           std        min        25%        50%  \\\n",
              "Total NPV  400.0  1.348054e+06  82021.817195  1118198.0  1288388.5  1345530.5   \n",
              "\n",
              "                 75%        max  \n",
              "Total NPV  1403536.0  1548045.0  "
            ],
            "text/html": [
              "\n",
              "  <div id=\"df-cc7819da-45d8-445c-a73b-1c87f5b48bf5\">\n",
              "    <div class=\"colab-df-container\">\n",
              "      <div>\n",
              "<style scoped>\n",
              "    .dataframe tbody tr th:only-of-type {\n",
              "        vertical-align: middle;\n",
              "    }\n",
              "\n",
              "    .dataframe tbody tr th {\n",
              "        vertical-align: top;\n",
              "    }\n",
              "\n",
              "    .dataframe thead th {\n",
              "        text-align: right;\n",
              "    }\n",
              "</style>\n",
              "<table border=\"1\" class=\"dataframe\">\n",
              "  <thead>\n",
              "    <tr style=\"text-align: right;\">\n",
              "      <th></th>\n",
              "      <th>count</th>\n",
              "      <th>mean</th>\n",
              "      <th>std</th>\n",
              "      <th>min</th>\n",
              "      <th>25%</th>\n",
              "      <th>50%</th>\n",
              "      <th>75%</th>\n",
              "      <th>max</th>\n",
              "    </tr>\n",
              "  </thead>\n",
              "  <tbody>\n",
              "    <tr>\n",
              "      <th>Total NPV</th>\n",
              "      <td>400.0</td>\n",
              "      <td>1.348054e+06</td>\n",
              "      <td>82021.817195</td>\n",
              "      <td>1118198.0</td>\n",
              "      <td>1288388.5</td>\n",
              "      <td>1345530.5</td>\n",
              "      <td>1403536.0</td>\n",
              "      <td>1548045.0</td>\n",
              "    </tr>\n",
              "  </tbody>\n",
              "</table>\n",
              "</div>\n",
              "      <button class=\"colab-df-convert\" onclick=\"convertToInteractive('df-cc7819da-45d8-445c-a73b-1c87f5b48bf5')\"\n",
              "              title=\"Convert this dataframe to an interactive table.\"\n",
              "              style=\"display:none;\">\n",
              "        \n",
              "  <svg xmlns=\"http://www.w3.org/2000/svg\" height=\"24px\"viewBox=\"0 0 24 24\"\n",
              "       width=\"24px\">\n",
              "    <path d=\"M0 0h24v24H0V0z\" fill=\"none\"/>\n",
              "    <path d=\"M18.56 5.44l.94 2.06.94-2.06 2.06-.94-2.06-.94-.94-2.06-.94 2.06-2.06.94zm-11 1L8.5 8.5l.94-2.06 2.06-.94-2.06-.94L8.5 2.5l-.94 2.06-2.06.94zm10 10l.94 2.06.94-2.06 2.06-.94-2.06-.94-.94-2.06-.94 2.06-2.06.94z\"/><path d=\"M17.41 7.96l-1.37-1.37c-.4-.4-.92-.59-1.43-.59-.52 0-1.04.2-1.43.59L10.3 9.45l-7.72 7.72c-.78.78-.78 2.05 0 2.83L4 21.41c.39.39.9.59 1.41.59.51 0 1.02-.2 1.41-.59l7.78-7.78 2.81-2.81c.8-.78.8-2.07 0-2.86zM5.41 20L4 18.59l7.72-7.72 1.47 1.35L5.41 20z\"/>\n",
              "  </svg>\n",
              "      </button>\n",
              "      \n",
              "  <style>\n",
              "    .colab-df-container {\n",
              "      display:flex;\n",
              "      flex-wrap:wrap;\n",
              "      gap: 12px;\n",
              "    }\n",
              "\n",
              "    .colab-df-convert {\n",
              "      background-color: #E8F0FE;\n",
              "      border: none;\n",
              "      border-radius: 50%;\n",
              "      cursor: pointer;\n",
              "      display: none;\n",
              "      fill: #1967D2;\n",
              "      height: 32px;\n",
              "      padding: 0 0 0 0;\n",
              "      width: 32px;\n",
              "    }\n",
              "\n",
              "    .colab-df-convert:hover {\n",
              "      background-color: #E2EBFA;\n",
              "      box-shadow: 0px 1px 2px rgba(60, 64, 67, 0.3), 0px 1px 3px 1px rgba(60, 64, 67, 0.15);\n",
              "      fill: #174EA6;\n",
              "    }\n",
              "\n",
              "    [theme=dark] .colab-df-convert {\n",
              "      background-color: #3B4455;\n",
              "      fill: #D2E3FC;\n",
              "    }\n",
              "\n",
              "    [theme=dark] .colab-df-convert:hover {\n",
              "      background-color: #434B5C;\n",
              "      box-shadow: 0px 1px 3px 1px rgba(0, 0, 0, 0.15);\n",
              "      filter: drop-shadow(0px 1px 2px rgba(0, 0, 0, 0.3));\n",
              "      fill: #FFFFFF;\n",
              "    }\n",
              "  </style>\n",
              "\n",
              "      <script>\n",
              "        const buttonEl =\n",
              "          document.querySelector('#df-cc7819da-45d8-445c-a73b-1c87f5b48bf5 button.colab-df-convert');\n",
              "        buttonEl.style.display =\n",
              "          google.colab.kernel.accessAllowed ? 'block' : 'none';\n",
              "\n",
              "        async function convertToInteractive(key) {\n",
              "          const element = document.querySelector('#df-cc7819da-45d8-445c-a73b-1c87f5b48bf5');\n",
              "          const dataTable =\n",
              "            await google.colab.kernel.invokeFunction('convertToInteractive',\n",
              "                                                     [key], {});\n",
              "          if (!dataTable) return;\n",
              "\n",
              "          const docLinkHtml = 'Like what you see? Visit the ' +\n",
              "            '<a target=\"_blank\" href=https://colab.research.google.com/notebooks/data_table.ipynb>data table notebook</a>'\n",
              "            + ' to learn more about interactive tables.';\n",
              "          element.innerHTML = '';\n",
              "          dataTable['output_type'] = 'display_data';\n",
              "          await google.colab.output.renderOutput(dataTable, element);\n",
              "          const docLink = document.createElement('div');\n",
              "          docLink.innerHTML = docLinkHtml;\n",
              "          element.appendChild(docLink);\n",
              "        }\n",
              "      </script>\n",
              "    </div>\n",
              "  </div>\n",
              "  "
            ]
          },
          "metadata": {},
          "execution_count": 81
        }
      ]
    },
    {
      "cell_type": "code",
      "source": [
        "IRR.describe().transpose()"
      ],
      "metadata": {
        "colab": {
          "base_uri": "https://localhost:8080/",
          "height": 81
        },
        "id": "cRR7OagK0Gxr",
        "outputId": "41e892eb-a5ef-4f02-e751-c02b6a91a280"
      },
      "execution_count": null,
      "outputs": [
        {
          "output_type": "execute_result",
          "data": {
            "text/plain": [
              "           count        mean        std     min      25%      50%     75%  \\\n",
              "Total IRR  400.0  320.285375  14.305712  289.28  307.255  320.405  332.55   \n",
              "\n",
              "              max  \n",
              "Total IRR  346.09  "
            ],
            "text/html": [
              "\n",
              "  <div id=\"df-63fab688-e9b2-4350-a6f9-13259335160a\">\n",
              "    <div class=\"colab-df-container\">\n",
              "      <div>\n",
              "<style scoped>\n",
              "    .dataframe tbody tr th:only-of-type {\n",
              "        vertical-align: middle;\n",
              "    }\n",
              "\n",
              "    .dataframe tbody tr th {\n",
              "        vertical-align: top;\n",
              "    }\n",
              "\n",
              "    .dataframe thead th {\n",
              "        text-align: right;\n",
              "    }\n",
              "</style>\n",
              "<table border=\"1\" class=\"dataframe\">\n",
              "  <thead>\n",
              "    <tr style=\"text-align: right;\">\n",
              "      <th></th>\n",
              "      <th>count</th>\n",
              "      <th>mean</th>\n",
              "      <th>std</th>\n",
              "      <th>min</th>\n",
              "      <th>25%</th>\n",
              "      <th>50%</th>\n",
              "      <th>75%</th>\n",
              "      <th>max</th>\n",
              "    </tr>\n",
              "  </thead>\n",
              "  <tbody>\n",
              "    <tr>\n",
              "      <th>Total IRR</th>\n",
              "      <td>400.0</td>\n",
              "      <td>320.285375</td>\n",
              "      <td>14.305712</td>\n",
              "      <td>289.28</td>\n",
              "      <td>307.255</td>\n",
              "      <td>320.405</td>\n",
              "      <td>332.55</td>\n",
              "      <td>346.09</td>\n",
              "    </tr>\n",
              "  </tbody>\n",
              "</table>\n",
              "</div>\n",
              "      <button class=\"colab-df-convert\" onclick=\"convertToInteractive('df-63fab688-e9b2-4350-a6f9-13259335160a')\"\n",
              "              title=\"Convert this dataframe to an interactive table.\"\n",
              "              style=\"display:none;\">\n",
              "        \n",
              "  <svg xmlns=\"http://www.w3.org/2000/svg\" height=\"24px\"viewBox=\"0 0 24 24\"\n",
              "       width=\"24px\">\n",
              "    <path d=\"M0 0h24v24H0V0z\" fill=\"none\"/>\n",
              "    <path d=\"M18.56 5.44l.94 2.06.94-2.06 2.06-.94-2.06-.94-.94-2.06-.94 2.06-2.06.94zm-11 1L8.5 8.5l.94-2.06 2.06-.94-2.06-.94L8.5 2.5l-.94 2.06-2.06.94zm10 10l.94 2.06.94-2.06 2.06-.94-2.06-.94-.94-2.06-.94 2.06-2.06.94z\"/><path d=\"M17.41 7.96l-1.37-1.37c-.4-.4-.92-.59-1.43-.59-.52 0-1.04.2-1.43.59L10.3 9.45l-7.72 7.72c-.78.78-.78 2.05 0 2.83L4 21.41c.39.39.9.59 1.41.59.51 0 1.02-.2 1.41-.59l7.78-7.78 2.81-2.81c.8-.78.8-2.07 0-2.86zM5.41 20L4 18.59l7.72-7.72 1.47 1.35L5.41 20z\"/>\n",
              "  </svg>\n",
              "      </button>\n",
              "      \n",
              "  <style>\n",
              "    .colab-df-container {\n",
              "      display:flex;\n",
              "      flex-wrap:wrap;\n",
              "      gap: 12px;\n",
              "    }\n",
              "\n",
              "    .colab-df-convert {\n",
              "      background-color: #E8F0FE;\n",
              "      border: none;\n",
              "      border-radius: 50%;\n",
              "      cursor: pointer;\n",
              "      display: none;\n",
              "      fill: #1967D2;\n",
              "      height: 32px;\n",
              "      padding: 0 0 0 0;\n",
              "      width: 32px;\n",
              "    }\n",
              "\n",
              "    .colab-df-convert:hover {\n",
              "      background-color: #E2EBFA;\n",
              "      box-shadow: 0px 1px 2px rgba(60, 64, 67, 0.3), 0px 1px 3px 1px rgba(60, 64, 67, 0.15);\n",
              "      fill: #174EA6;\n",
              "    }\n",
              "\n",
              "    [theme=dark] .colab-df-convert {\n",
              "      background-color: #3B4455;\n",
              "      fill: #D2E3FC;\n",
              "    }\n",
              "\n",
              "    [theme=dark] .colab-df-convert:hover {\n",
              "      background-color: #434B5C;\n",
              "      box-shadow: 0px 1px 3px 1px rgba(0, 0, 0, 0.15);\n",
              "      filter: drop-shadow(0px 1px 2px rgba(0, 0, 0, 0.3));\n",
              "      fill: #FFFFFF;\n",
              "    }\n",
              "  </style>\n",
              "\n",
              "      <script>\n",
              "        const buttonEl =\n",
              "          document.querySelector('#df-63fab688-e9b2-4350-a6f9-13259335160a button.colab-df-convert');\n",
              "        buttonEl.style.display =\n",
              "          google.colab.kernel.accessAllowed ? 'block' : 'none';\n",
              "\n",
              "        async function convertToInteractive(key) {\n",
              "          const element = document.querySelector('#df-63fab688-e9b2-4350-a6f9-13259335160a');\n",
              "          const dataTable =\n",
              "            await google.colab.kernel.invokeFunction('convertToInteractive',\n",
              "                                                     [key], {});\n",
              "          if (!dataTable) return;\n",
              "\n",
              "          const docLinkHtml = 'Like what you see? Visit the ' +\n",
              "            '<a target=\"_blank\" href=https://colab.research.google.com/notebooks/data_table.ipynb>data table notebook</a>'\n",
              "            + ' to learn more about interactive tables.';\n",
              "          element.innerHTML = '';\n",
              "          dataTable['output_type'] = 'display_data';\n",
              "          await google.colab.output.renderOutput(dataTable, element);\n",
              "          const docLink = document.createElement('div');\n",
              "          docLink.innerHTML = docLinkHtml;\n",
              "          element.appendChild(docLink);\n",
              "        }\n",
              "      </script>\n",
              "    </div>\n",
              "  </div>\n",
              "  "
            ]
          },
          "metadata": {},
          "execution_count": 82
        }
      ]
    },
    {
      "cell_type": "markdown",
      "source": [
        "Résultat de l'analyse de la valeur acutel net (NPV)\n",
        "- La valuer au 75ieme percentile est négatif\n",
        "- Le projet n'est pas rentable dans l'état proposer\n",
        "- L'entreprise doit augmenter les économies espérer\n",
        "\n",
        "Résultat de l'analyse du taux de retour interne (IRR)\n",
        "- La moyenne est autour de 7%\n",
        "- Le projet ne respecte pas notre structure de cout pour ce projet\n",
        "- Avec un écart type de 6%\n",
        "- Le projet à trop de variabilité pour considérer la recherche de cout de financement moins cher\n",
        "- L'entreprise doit mieux controlé l'évolution des couts"
      ],
      "metadata": {
        "id": "_u83bWHiGvcX"
      }
    },
    {
      "cell_type": "markdown",
      "source": [
        "# Fin de l'analyse"
      ],
      "metadata": {
        "id": "CJp9ljk9H32C"
      }
    }
  ]
}