{
  "nbformat": 4,
  "nbformat_minor": 0,
  "metadata": {
    "colab": {
      "provenance": [],
      "include_colab_link": true
    },
    "kernelspec": {
      "name": "python3",
      "display_name": "Python 3"
    },
    "language_info": {
      "name": "python"
    }
  },
  "cells": [
    {
      "cell_type": "markdown",
      "metadata": {
        "id": "view-in-github",
        "colab_type": "text"
      },
      "source": [
        "<a href=\"https://colab.research.google.com/github/MarcoChartier/Projet-PFE/blob/main/Projet_PFE.ipynb\" target=\"_parent\"><img src=\"https://colab.research.google.com/assets/colab-badge.svg\" alt=\"Open In Colab\"/></a>"
      ]
    },
    {
      "cell_type": "markdown",
      "source": [
        "# Projet PFE\n",
        "## Description\n",
        "Se projet est une application batîe dans le but d'aider les charges de transformation numérique à évaluer le projet. \n",
        "\n",
        "## Configuration\n",
        "Ce projet nessésite de connaitre le language de progammation. Des explemes de code serons disponible au besoin. "
      ],
      "metadata": {
        "id": "dcjTsQWVyM0K"
      }
    },
    {
      "cell_type": "markdown",
      "source": [
        "# Partie d'analyse de l'investissement"
      ],
      "metadata": {
        "id": "yRXYA8l1Ghed"
      }
    },
    {
      "cell_type": "markdown",
      "source": [],
      "metadata": {
        "id": "9YASaNyqPcPj"
      }
    },
    {
      "cell_type": "code",
      "source": [
        "pip install numpy-financial"
      ],
      "metadata": {
        "colab": {
          "base_uri": "https://localhost:8080/"
        },
        "cellView": "code",
        "id": "bRNbR9-vPZHo",
        "outputId": "5f29a2de-96a6-4cda-9dd9-0824426555ee"
      },
      "execution_count": null,
      "outputs": [
        {
          "output_type": "stream",
          "name": "stdout",
          "text": [
            "Looking in indexes: https://pypi.org/simple, https://us-python.pkg.dev/colab-wheels/public/simple/\n",
            "Collecting numpy-financial\n",
            "  Downloading numpy_financial-1.0.0-py3-none-any.whl (14 kB)\n",
            "Requirement already satisfied: numpy>=1.15 in /usr/local/lib/python3.7/dist-packages (from numpy-financial) (1.21.6)\n",
            "Installing collected packages: numpy-financial\n",
            "Successfully installed numpy-financial-1.0.0\n"
          ]
        }
      ]
    },
    {
      "cell_type": "code",
      "source": [
        "#@title Importation des modules complémentaires\n",
        "# Module à importer pour la partie financière\n",
        "import numpy_financial as npf # Module des formules financières\n",
        "import numpy as np # Module pour utiliser des arrays\n",
        "import random # Module des fonctions aléatoires\n",
        "import pandas as pd # Module pour la gestion des tableaux de données\n",
        "import matplotlib.pyplot as plt # Module pour dessiner des graphiques "
      ],
      "metadata": {
        "id": "r4kDpsosPkg4"
      },
      "execution_count": null,
      "outputs": []
    },
    {
      "cell_type": "markdown",
      "source": [
        "## Hypotèse de travail\n"
      ],
      "metadata": {
        "id": "J_98VMMjQFZa"
      }
    },
    {
      "cell_type": "markdown",
      "source": [
        "Remplir les informations suivante"
      ],
      "metadata": {
        "id": "giiMMB1uSS5V"
      }
    },
    {
      "cell_type": "code",
      "source": [
        "year = 10 #@param {type:\"slider\", min:5, max:20, step:1} \n",
        "p_inves = 20000 #@param {type:\"number\"}\n",
        "nb_licences = 25 #@param {type:\"number\"}\n",
        "c_licences = 12 #@param {type:\"number\"}\n",
        "p_econo = 5000 #@param {type:\"number\"}\n",
        "c_fixe = 1500 #@param {type:\"number\"}\n",
        "c_variable = 6 #@param {type:\"number\"}\n",
        "low = 10.1\n",
        "high = 11\n",
        "mode = 10.3"
      ],
      "metadata": {
        "id": "s02X6oTuQOh9",
        "cellView": "form"
      },
      "execution_count": null,
      "outputs": []
    },
    {
      "cell_type": "code",
      "source": [
        "# Initialisation des tableaux\n",
        "tab_inves = np.array([p_inves])\n",
        "tab_econo = np.array([0])\n",
        "tab_c_fixe = np.array([])\n",
        "tab_c_variable = np.array([])\n",
        "table_c_licences = np.array([])\n",
        "\n",
        "for i in range(year) :\n",
        "  tab_inves = np.append(tab_inves,0)\n",
        "\n",
        "for i in range(year+1) :\n",
        "  if i == 0 :\n",
        "    tab_c_fixe = np.append(tab_c_fixe,0)\n",
        "  elif i == 1 :\n",
        "    tab_c_fixe = np.append(tab_c_fixe,c_fixe)\n",
        "  else :\n",
        "    tab_c_fixe = np.append(tab_c_fixe,tab_c_fixe[i-1]*(np.random.choice([1,1.5,2],p=[0.6,0.25,0.15])))\n",
        "\n",
        "\n",
        "for i in range(year+1) :\n",
        "  if i == 0 :\n",
        "    tab_c_variable = np.append(tab_c_variable,0)\n",
        "  elif i == 1 :\n",
        "    tab_c_variable = np.append(tab_c_variable,c_variable*nb_licences)\n",
        "  else :\n",
        "    tab_c_variable = np.append(tab_c_variable,tab_c_variable[i-1]*(random.triangular(low,high,mode)/10))\n",
        "\n",
        "for i in range(year) :\n",
        "  if i == 0 :\n",
        "    tab_econo = np.append(tab_econo,0)\n",
        "  elif i ==1 :\n",
        "    tab_econo = np.append(tab_econo,p_econo)\n",
        "  else :\n",
        "    tab_econo = np.append(tab_econo,random.uniform(p_econo,p_econo*2))"
      ],
      "metadata": {
        "id": "YGrnk8c_TQrF"
      },
      "execution_count": null,
      "outputs": []
    },
    {
      "cell_type": "code",
      "source": [
        "er = pd.DataFrame(columns=['Économie', 'Cout variable', 'Cout fixe', \"Investissement\",\"Total cout\", \"Total\"], dtype='float')\n",
        "er[\"Économie\"] = tab_econo\n",
        "er[\"Cout variable\"] = tab_c_variable\n",
        "er[\"Cout fixe\"] = tab_c_fixe\n",
        "er[\"Investissement\"] = tab_inves\n",
        "er[\"Total cout\"] = tab_c_variable + tab_c_fixe + tab_inves\n",
        "er[\"Total\"] = tab_econo - er[\"Total cout\"]\n",
        "er = er.round(0)\n",
        "er.transpose()"
      ],
      "metadata": {
        "colab": {
          "base_uri": "https://localhost:8080/",
          "height": 237
        },
        "id": "2juMb_wKT5v3",
        "outputId": "4f7e277d-449f-42ca-beeb-a027d1df6726"
      },
      "execution_count": null,
      "outputs": [
        {
          "output_type": "execute_result",
          "data": {
            "text/plain": [
              "                     0       1       2       3       4       5       6   \\\n",
              "Économie            0.0     0.0  5000.0  7262.0  8493.0  8483.0  7352.0   \n",
              "Cout variable       0.0   150.0   154.0   159.0   170.0   182.0   191.0   \n",
              "Cout fixe           0.0  1500.0  1500.0  1500.0  2250.0  2250.0  2250.0   \n",
              "Investissement  20000.0     0.0     0.0     0.0     0.0     0.0     0.0   \n",
              "Total cout      20000.0  1650.0  1654.0  1659.0  2420.0  2432.0  2441.0   \n",
              "Total          -20000.0 -1650.0  3346.0  5602.0  6073.0  6051.0  4910.0   \n",
              "\n",
              "                    7       8       9       10  \n",
              "Économie        8299.0  5010.0  7684.0  7048.0  \n",
              "Cout variable    199.0   208.0   216.0   230.0  \n",
              "Cout fixe       3375.0  3375.0  3375.0  3375.0  \n",
              "Investissement     0.0     0.0     0.0     0.0  \n",
              "Total cout      3574.0  3583.0  3591.0  3605.0  \n",
              "Total           4725.0  1427.0  4093.0  3443.0  "
            ],
            "text/html": [
              "\n",
              "  <div id=\"df-e00d1f86-97c7-4d66-8939-a5dcbf698e70\">\n",
              "    <div class=\"colab-df-container\">\n",
              "      <div>\n",
              "<style scoped>\n",
              "    .dataframe tbody tr th:only-of-type {\n",
              "        vertical-align: middle;\n",
              "    }\n",
              "\n",
              "    .dataframe tbody tr th {\n",
              "        vertical-align: top;\n",
              "    }\n",
              "\n",
              "    .dataframe thead th {\n",
              "        text-align: right;\n",
              "    }\n",
              "</style>\n",
              "<table border=\"1\" class=\"dataframe\">\n",
              "  <thead>\n",
              "    <tr style=\"text-align: right;\">\n",
              "      <th></th>\n",
              "      <th>0</th>\n",
              "      <th>1</th>\n",
              "      <th>2</th>\n",
              "      <th>3</th>\n",
              "      <th>4</th>\n",
              "      <th>5</th>\n",
              "      <th>6</th>\n",
              "      <th>7</th>\n",
              "      <th>8</th>\n",
              "      <th>9</th>\n",
              "      <th>10</th>\n",
              "    </tr>\n",
              "  </thead>\n",
              "  <tbody>\n",
              "    <tr>\n",
              "      <th>Économie</th>\n",
              "      <td>0.0</td>\n",
              "      <td>0.0</td>\n",
              "      <td>5000.0</td>\n",
              "      <td>7262.0</td>\n",
              "      <td>8493.0</td>\n",
              "      <td>8483.0</td>\n",
              "      <td>7352.0</td>\n",
              "      <td>8299.0</td>\n",
              "      <td>5010.0</td>\n",
              "      <td>7684.0</td>\n",
              "      <td>7048.0</td>\n",
              "    </tr>\n",
              "    <tr>\n",
              "      <th>Cout variable</th>\n",
              "      <td>0.0</td>\n",
              "      <td>150.0</td>\n",
              "      <td>154.0</td>\n",
              "      <td>159.0</td>\n",
              "      <td>170.0</td>\n",
              "      <td>182.0</td>\n",
              "      <td>191.0</td>\n",
              "      <td>199.0</td>\n",
              "      <td>208.0</td>\n",
              "      <td>216.0</td>\n",
              "      <td>230.0</td>\n",
              "    </tr>\n",
              "    <tr>\n",
              "      <th>Cout fixe</th>\n",
              "      <td>0.0</td>\n",
              "      <td>1500.0</td>\n",
              "      <td>1500.0</td>\n",
              "      <td>1500.0</td>\n",
              "      <td>2250.0</td>\n",
              "      <td>2250.0</td>\n",
              "      <td>2250.0</td>\n",
              "      <td>3375.0</td>\n",
              "      <td>3375.0</td>\n",
              "      <td>3375.0</td>\n",
              "      <td>3375.0</td>\n",
              "    </tr>\n",
              "    <tr>\n",
              "      <th>Investissement</th>\n",
              "      <td>20000.0</td>\n",
              "      <td>0.0</td>\n",
              "      <td>0.0</td>\n",
              "      <td>0.0</td>\n",
              "      <td>0.0</td>\n",
              "      <td>0.0</td>\n",
              "      <td>0.0</td>\n",
              "      <td>0.0</td>\n",
              "      <td>0.0</td>\n",
              "      <td>0.0</td>\n",
              "      <td>0.0</td>\n",
              "    </tr>\n",
              "    <tr>\n",
              "      <th>Total cout</th>\n",
              "      <td>20000.0</td>\n",
              "      <td>1650.0</td>\n",
              "      <td>1654.0</td>\n",
              "      <td>1659.0</td>\n",
              "      <td>2420.0</td>\n",
              "      <td>2432.0</td>\n",
              "      <td>2441.0</td>\n",
              "      <td>3574.0</td>\n",
              "      <td>3583.0</td>\n",
              "      <td>3591.0</td>\n",
              "      <td>3605.0</td>\n",
              "    </tr>\n",
              "    <tr>\n",
              "      <th>Total</th>\n",
              "      <td>-20000.0</td>\n",
              "      <td>-1650.0</td>\n",
              "      <td>3346.0</td>\n",
              "      <td>5602.0</td>\n",
              "      <td>6073.0</td>\n",
              "      <td>6051.0</td>\n",
              "      <td>4910.0</td>\n",
              "      <td>4725.0</td>\n",
              "      <td>1427.0</td>\n",
              "      <td>4093.0</td>\n",
              "      <td>3443.0</td>\n",
              "    </tr>\n",
              "  </tbody>\n",
              "</table>\n",
              "</div>\n",
              "      <button class=\"colab-df-convert\" onclick=\"convertToInteractive('df-e00d1f86-97c7-4d66-8939-a5dcbf698e70')\"\n",
              "              title=\"Convert this dataframe to an interactive table.\"\n",
              "              style=\"display:none;\">\n",
              "        \n",
              "  <svg xmlns=\"http://www.w3.org/2000/svg\" height=\"24px\"viewBox=\"0 0 24 24\"\n",
              "       width=\"24px\">\n",
              "    <path d=\"M0 0h24v24H0V0z\" fill=\"none\"/>\n",
              "    <path d=\"M18.56 5.44l.94 2.06.94-2.06 2.06-.94-2.06-.94-.94-2.06-.94 2.06-2.06.94zm-11 1L8.5 8.5l.94-2.06 2.06-.94-2.06-.94L8.5 2.5l-.94 2.06-2.06.94zm10 10l.94 2.06.94-2.06 2.06-.94-2.06-.94-.94-2.06-.94 2.06-2.06.94z\"/><path d=\"M17.41 7.96l-1.37-1.37c-.4-.4-.92-.59-1.43-.59-.52 0-1.04.2-1.43.59L10.3 9.45l-7.72 7.72c-.78.78-.78 2.05 0 2.83L4 21.41c.39.39.9.59 1.41.59.51 0 1.02-.2 1.41-.59l7.78-7.78 2.81-2.81c.8-.78.8-2.07 0-2.86zM5.41 20L4 18.59l7.72-7.72 1.47 1.35L5.41 20z\"/>\n",
              "  </svg>\n",
              "      </button>\n",
              "      \n",
              "  <style>\n",
              "    .colab-df-container {\n",
              "      display:flex;\n",
              "      flex-wrap:wrap;\n",
              "      gap: 12px;\n",
              "    }\n",
              "\n",
              "    .colab-df-convert {\n",
              "      background-color: #E8F0FE;\n",
              "      border: none;\n",
              "      border-radius: 50%;\n",
              "      cursor: pointer;\n",
              "      display: none;\n",
              "      fill: #1967D2;\n",
              "      height: 32px;\n",
              "      padding: 0 0 0 0;\n",
              "      width: 32px;\n",
              "    }\n",
              "\n",
              "    .colab-df-convert:hover {\n",
              "      background-color: #E2EBFA;\n",
              "      box-shadow: 0px 1px 2px rgba(60, 64, 67, 0.3), 0px 1px 3px 1px rgba(60, 64, 67, 0.15);\n",
              "      fill: #174EA6;\n",
              "    }\n",
              "\n",
              "    [theme=dark] .colab-df-convert {\n",
              "      background-color: #3B4455;\n",
              "      fill: #D2E3FC;\n",
              "    }\n",
              "\n",
              "    [theme=dark] .colab-df-convert:hover {\n",
              "      background-color: #434B5C;\n",
              "      box-shadow: 0px 1px 3px 1px rgba(0, 0, 0, 0.15);\n",
              "      filter: drop-shadow(0px 1px 2px rgba(0, 0, 0, 0.3));\n",
              "      fill: #FFFFFF;\n",
              "    }\n",
              "  </style>\n",
              "\n",
              "      <script>\n",
              "        const buttonEl =\n",
              "          document.querySelector('#df-e00d1f86-97c7-4d66-8939-a5dcbf698e70 button.colab-df-convert');\n",
              "        buttonEl.style.display =\n",
              "          google.colab.kernel.accessAllowed ? 'block' : 'none';\n",
              "\n",
              "        async function convertToInteractive(key) {\n",
              "          const element = document.querySelector('#df-e00d1f86-97c7-4d66-8939-a5dcbf698e70');\n",
              "          const dataTable =\n",
              "            await google.colab.kernel.invokeFunction('convertToInteractive',\n",
              "                                                     [key], {});\n",
              "          if (!dataTable) return;\n",
              "\n",
              "          const docLinkHtml = 'Like what you see? Visit the ' +\n",
              "            '<a target=\"_blank\" href=https://colab.research.google.com/notebooks/data_table.ipynb>data table notebook</a>'\n",
              "            + ' to learn more about interactive tables.';\n",
              "          element.innerHTML = '';\n",
              "          dataTable['output_type'] = 'display_data';\n",
              "          await google.colab.output.renderOutput(dataTable, element);\n",
              "          const docLink = document.createElement('div');\n",
              "          docLink.innerHTML = docLinkHtml;\n",
              "          element.appendChild(docLink);\n",
              "        }\n",
              "      </script>\n",
              "    </div>\n",
              "  </div>\n",
              "  "
            ]
          },
          "metadata": {},
          "execution_count": 5
        }
      ]
    },
    {
      "cell_type": "code",
      "source": [
        "er[\"Total cumul\"] = er[\"Total\"].cumsum()\n",
        "plt.plot(er.index, er['Total cumul'], color='red', marker='o',)\n",
        "plt.title('Cumulatif par années', fontsize=14)\n",
        "plt.xlabel('Année', fontsize=14)\n",
        "plt.ylabel('Cumulatif', fontsize=14)\n",
        "plt.ylim(-p_inves*1.5,0)\n",
        "plt.grid(True)\n",
        "plt.show()"
      ],
      "metadata": {
        "colab": {
          "base_uri": "https://localhost:8080/",
          "height": 301
        },
        "id": "n9YzWYzRYjOU",
        "outputId": "db91c60a-2ecc-4d58-ec6f-7156047267d5"
      },
      "execution_count": null,
      "outputs": [
        {
          "output_type": "display_data",
          "data": {
            "text/plain": [
              "<Figure size 432x288 with 1 Axes>"
            ],
            "image/png": "[encoded data removed]"
          },
          "metadata": {
            "needs_background": "light"
          }
        }
      ]
    },
    {
      "cell_type": "code",
      "source": [
        "def tableau() :\n",
        "# Initialisation des tableaux\n",
        "  tab_inves = np.array([p_inves])\n",
        "  tab_econo = np.array([0])\n",
        "  tab_c_fixe = np.array([])\n",
        "  tab_c_variable = np.array([])\n",
        "  table_c_licences = np.array([])\n",
        "\n",
        "  for i in range(year) :\n",
        "    tab_inves = np.append(tab_inves,0)\n",
        "\n",
        "  for i in range(year+1) :\n",
        "    if i == 0 :\n",
        "      tab_c_fixe = np.append(tab_c_fixe,0)\n",
        "    elif i == 1 :\n",
        "      tab_c_fixe = np.append(tab_c_fixe,c_fixe)\n",
        "    else :\n",
        "      tab_c_fixe = np.append(tab_c_fixe,tab_c_fixe[i-1]*(np.random.choice([1,1.5,2],p=[0.6,0.25,0.15])))\n",
        "\n",
        "\n",
        "  for i in range(year+1) :\n",
        "    if i == 0 :\n",
        "      tab_c_variable = np.append(tab_c_variable,0)\n",
        "    elif i == 1 :\n",
        "      tab_c_variable = np.append(tab_c_variable,c_variable*nb_licences)\n",
        "    else :\n",
        "      tab_c_variable = np.append(tab_c_variable,tab_c_variable[i-1]*(random.triangular(low,high,mode)/10))\n",
        "\n",
        "  for i in range(year) :\n",
        "    if i == 0 :\n",
        "      tab_econo = np.append(tab_econo,0)\n",
        "    elif i ==1 :\n",
        "      tab_econo = np.append(tab_econo,p_econo)\n",
        "    else :\n",
        "      tab_econo = np.append(tab_econo,random.uniform(p_econo,p_econo*2))\n",
        "\n",
        "  er = pd.DataFrame(columns=['Économie', 'Cout variable', 'Cout fixe', \"Investissement\",\"Total cout\", \"Total\"], dtype='float')\n",
        "  er[\"Économie\"] = tab_econo\n",
        "  er[\"Cout variable\"] = tab_c_variable\n",
        "  er[\"Cout fixe\"] = tab_c_fixe\n",
        "  er[\"Investissement\"] = tab_inves\n",
        "  er[\"Total cout\"] = tab_c_variable + tab_c_fixe + tab_inves\n",
        "  er[\"Total\"] = tab_econo - er[\"Total cout\"]\n",
        "  \n",
        "  return er[\"Total\"]"
      ],
      "metadata": {
        "id": "JOEL90E3ggIG"
      },
      "execution_count": null,
      "outputs": []
    },
    {
      "cell_type": "code",
      "source": [
        "tab_irr = np.array([])\n",
        "\n",
        "\n",
        "for i in range(150) :\n",
        "  tab_irr = np.append(tab_irr,npf.irr(tableau())*100)\n",
        "\n",
        "df = pd.DataFrame(data={'Total IRR': tab_irr})\n",
        "df = df.round(2)\n",
        "df.describe()\n",
        "# Show plot\n",
        "df.plot(kind='hist')"
      ],
      "metadata": {
        "colab": {
          "base_uri": "https://localhost:8080/",
          "height": 283
        },
        "id": "8xSsvfyDgIy4",
        "outputId": "618d8970-6fb2-4590-8bf0-c73a08a28a7e"
      },
      "execution_count": null,
      "outputs": [
        {
          "output_type": "execute_result",
          "data": {
            "text/plain": [
              "<matplotlib.axes._subplots.AxesSubplot at 0x7fc1eb306250>"
            ]
          },
          "metadata": {},
          "execution_count": 8
        },
        {
          "output_type": "display_data",
          "data": {
            "text/plain": [
              "<Figure size 432x288 with 1 Axes>"
            ],
            "image/png": "[encoded data removed]"
          },
          "metadata": {
            "needs_background": "light"
          }
        }
      ]
    },
    {
      "cell_type": "code",
      "source": [
        "tab_npv = np.array([])\n",
        "\n",
        "\n",
        "for i in range(150) :\n",
        "  tab_npv = np.append(tab_npv,npf.npv(0.15,tableau()))\n",
        "\n",
        "df = pd.DataFrame(data={'Total IRR': tab_npv})\n",
        "df = df.round(2)\n",
        "df\n",
        "# Show plot\n",
        "df.plot(kind='hist')"
      ],
      "metadata": {
        "colab": {
          "base_uri": "https://localhost:8080/",
          "height": 283
        },
        "id": "Mc9ydAPBqB0i",
        "outputId": "c28be380-b502-4316-869e-d948fb36c673"
      },
      "execution_count": null,
      "outputs": [
        {
          "output_type": "execute_result",
          "data": {
            "text/plain": [
              "<matplotlib.axes._subplots.AxesSubplot at 0x7fc1eb948c50>"
            ]
          },
          "metadata": {},
          "execution_count": 9
        },
        {
          "output_type": "display_data",
          "data": {
            "text/plain": [
              "<Figure size 432x288 with 1 Axes>"
            ],
            "image/png": "[encoded data removed]"
          },
          "metadata": {
            "needs_background": "light"
          }
        }
      ]
    },
    {
      "cell_type": "markdown",
      "source": [
        "# New Section"
      ],
      "metadata": {
        "id": "T6J1aF5vGhiu"
      }
    },
    {
      "cell_type": "markdown",
      "source": [
        "# New Section"
      ],
      "metadata": {
        "id": "oz-ZPPNPGiRZ"
      }
    },
    {
      "cell_type": "markdown",
      "source": [
        "# New Section"
      ],
      "metadata": {
        "id": "f5muvigIGipW"
      }
    },
    {
      "cell_type": "code",
      "source": [
        "#Modification fait par sebastian"
      ],
      "metadata": {
        "id": "jEVS--XZmnBZ"
      },
      "execution_count": null,
      "outputs": []
    },
    {
      "cell_type": "code",
      "source": [
        "#Test"
      ],
      "metadata": {
        "id": "NnVrS6nbzydk"
      },
      "execution_count": null,
      "outputs": []
    },
    {
      "cell_type": "code",
      "source": [],
      "metadata": {
        "id": "IulXcWP7z6Mz"
      },
      "execution_count": null,
      "outputs": []
    },
    {
      "cell_type": "code",
      "execution_count": null,
      "metadata": {
        "id": "zLPuArH6LF1k",
        "colab": {
          "base_uri": "https://localhost:8080/"
        },
        "outputId": "89eaa209-9ce8-4af8-c5a0-1ddd8c89e186"
      },
      "outputs": [
        {
          "output_type": "stream",
          "name": "stdout",
          "text": [
            "3.141592653589793\n"
          ]
        }
      ],
      "source": [
        "import numpy as np\n",
        "print(np.pi)"
      ]
    }
  ]
}